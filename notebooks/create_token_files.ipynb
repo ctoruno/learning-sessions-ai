{
 "cells": [
  {
   "cell_type": "markdown",
   "metadata": {},
   "source": [
    "## This code requires the following:\n",
    "\n",
    "1. Install the required libraries in you local environment:\n",
    "    ```pip3 install --upgrade google-api-python-client google-auth-httplib2 google-auth-oauthlib```\n",
    "\n",
    "2. Set up your Google Cloud Environment:\n",
    "    - Go to: console.cloud.google.com\n",
    "    - Create a new project\n",
    "    - Create a new API: Go to APIs & Services -> Enable APIs & Services\n",
    "    - Search for GMAIL API and Drive API and enable them\n",
    "    - Enable OAUTH: Go to APIs & Services -> OAuth consent screen\n",
    "        - Start a new channel\n",
    "        - Name your app\n",
    "        - Select EXTERNAL \n",
    "        - Create the OAuth\n",
    "        - Go to PUBLIC (left panel) and add your email as a test user\n",
    "    - Create credentials:\n",
    "        - New Credential -> OAUTH client ID\n",
    "        - App type: Desktop\n",
    "        - Name your app and create it\n",
    "        - Once your app credentials are created, DOWNLOAD the JSON file"
   ]
  },
  {
   "cell_type": "code",
   "execution_count": 1,
   "metadata": {},
   "outputs": [],
   "source": [
    "import os\n",
    "from google_auth_oauthlib.flow import InstalledAppFlow\n",
    "from googleapiclient.discovery import build\n",
    "from google.oauth2.credentials import Credentials\n",
    "from google.auth.transport.requests import Request"
   ]
  },
  {
   "cell_type": "markdown",
   "metadata": {},
   "source": [
    "## Create your token files based on your \"client_secret_file\""
   ]
  },
  {
   "cell_type": "code",
   "execution_count": 5,
   "metadata": {},
   "outputs": [],
   "source": [
    "def create_token_files(client_secret_file, api_service_name, api_version, scopes, prefix='H'):\n",
    "\n",
    "    creds = None\n",
    "    working_dir = os.getcwd()\n",
    "    token_dir = 'token_files'\n",
    "    token_file = f'token_{api_service_name}_{api_version}_{prefix}.json'\n",
    "\n",
    "    ### Check if token dir exists first, if not, create the folder\n",
    "    if not os.path.exists(os.path.join(working_dir, token_dir)):\n",
    "        os.mkdir(os.path.join(working_dir, token_dir))\n",
    "\n",
    "    if os.path.exists(os.path.join(working_dir, token_dir, token_file)):\n",
    "        creds = Credentials.from_authorized_user_file(os.path.join(working_dir, token_dir, token_file), scopes)\n",
    "\n",
    "    if not creds or not creds.valid:\n",
    "        if creds and creds.expired and creds.refresh_token:\n",
    "            creds.refresh(Request())\n",
    "        else:\n",
    "            flow = InstalledAppFlow.from_client_secrets_file(client_secret_file, scopes)\n",
    "            creds = flow.run_local_server(port=0)\n",
    "\n",
    "        with open(os.path.join(working_dir, token_dir, token_file), 'w') as token:\n",
    "            token.write(creds.to_json())"
   ]
  },
  {
   "cell_type": "code",
   "execution_count": 7,
   "metadata": {},
   "outputs": [
    {
     "name": "stdout",
     "output_type": "stream",
     "text": [
      "Please visit this URL to authorize this application: https://accounts.google.com/o/oauth2/auth?response_type=code&client_id=478639231328-tntgmc6q72bo1v5psvhsfd0dmd9sf9lp.apps.googleusercontent.com&redirect_uri=http%3A%2F%2Flocalhost%3A60631%2F&scope=https%3A%2F%2Fwww.googleapis.com%2Fauth%2Fdrive&state=I332wCZHMw9EsZ2aYX5k1nIOvpbNwc&access_type=offline\n"
     ]
    }
   ],
   "source": [
    "required_tokens = [\n",
    "    {\n",
    "        'client_secret_file' : 'client_secret.json',\n",
    "        'API_SERVICE_NAME'   : 'drive',\n",
    "        'API_VERSION'        : 'v3',\n",
    "        'SCOPES'             : ['https://www.googleapis.com/auth/drive']\n",
    "    }\n",
    "    # {\n",
    "    #     'client_secret_file' : 'client_secret.json',\n",
    "    #     'API_SERVICE_NAME'   : 'gmail',\n",
    "    #     'API_VERSION'        : 'v1',\n",
    "    #     'SCOPES'             : ['https://mail.google.com/']\n",
    "    # }\n",
    "]\n",
    "\n",
    "for token in required_tokens:\n",
    "    create_token_files(token['client_secret_file'], token['API_SERVICE_NAME'], token['API_VERSION'], token['SCOPES'])\n"
   ]
  }
 ],
 "metadata": {
  "kernelspec": {
   "display_name": "learning-sessions-ai",
   "language": "python",
   "name": "python3"
  },
  "language_info": {
   "codemirror_mode": {
    "name": "ipython",
    "version": 3
   },
   "file_extension": ".py",
   "mimetype": "text/x-python",
   "name": "python",
   "nbconvert_exporter": "python",
   "pygments_lexer": "ipython3",
   "version": "3.13.2"
  }
 },
 "nbformat": 4,
 "nbformat_minor": 2
}
