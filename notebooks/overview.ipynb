{
 "cells": [
  {
   "cell_type": "markdown",
   "metadata": {},
   "source": [
    "## Step 1: Create a Google Drive Service"
   ]
  },
  {
   "cell_type": "code",
   "execution_count": 21,
   "metadata": {},
   "outputs": [],
   "source": [
    "import os\n",
    "from google.oauth2.credentials import Credentials\n",
    "from googleapiclient.discovery import build"
   ]
  },
  {
   "cell_type": "code",
   "execution_count": 22,
   "metadata": {},
   "outputs": [],
   "source": [
    "def create_service(token_file_name, api_service_name, api_version, scopes):\n",
    "\n",
    "    working_dir = os.getcwd()\n",
    "    token_dir   = 'token_files'\n",
    "    creds = Credentials.from_authorized_user_file(os.path.join(working_dir, token_dir, token_file_name), scopes)\n",
    "    \n",
    "    try:\n",
    "        service = build(api_service_name, api_version, credentials=creds, static_discovery=False)\n",
    "        print(api_service_name, api_version, 'service created successfully')\n",
    "        return service\n",
    "    except Exception as e:\n",
    "        print(e)\n",
    "        print(f'Failed to create service instance for {api_service_name}')\n",
    "        os.remove(os.path.join(working_dir, token_dir, token_file_name))\n",
    "        return None"
   ]
  },
  {
   "cell_type": "markdown",
   "metadata": {},
   "source": [
    "To create a Google Drive service, you need to have the following files:\n",
    "- token file for Google Drive\n",
    "\n",
    "If you don't have it, please create one using the `create_token_files.ipynb` routine."
   ]
  },
  {
   "cell_type": "code",
   "execution_count": 23,
   "metadata": {},
   "outputs": [
    {
     "name": "stdout",
     "output_type": "stream",
     "text": [
      "drive v3 service created successfully\n"
     ]
    }
   ],
   "source": [
    "gdrive_service = create_service(\n",
    "    token_file_name  = 'token_drive_v3_t1.json', \n",
    "    api_service_name = 'drive', \n",
    "    api_version      = 'v3', \n",
    "    scopes           = ['https://www.googleapis.com/auth/drive']\n",
    ")"
   ]
  },
  {
   "cell_type": "code",
   "execution_count": 24,
   "metadata": {},
   "outputs": [],
   "source": [
    "buckets = {\n",
    "    'recordings'  : '1z2nxlaCc6QPY9yIwUMIz_58-2DagVSJc',\n",
    "    'transcripts' : '14c_oSCVHEkSBb59-68qJlJmSu9-WYqfO',\n",
    "    'feedback'    : '1FKJ5dez8TJAoSIiCtVR6P1rYTrwSE0TT'\n",
    "}"
   ]
  },
  {
   "cell_type": "code",
   "execution_count": 25,
   "metadata": {},
   "outputs": [],
   "source": [
    "def check_date_dirs(selected_date, parent_id):\n",
    "    query= f\"parents = '{parent_id}'\"\n",
    "    current_dates = gdrive_service.files().list(supportsAllDrives=True, includeItemsFromAllDrives=True, q=query).execute()\n",
    "    if selected_date.replace(' ', '-') not in [x['name'] for x in current_dates['files']]:\n",
    "        print('No directory found for the selected date')\n",
    "        return True\n",
    "    else:\n",
    "        raise Exception('Directory is already present!!!')"
   ]
  },
  {
   "cell_type": "code",
   "execution_count": 26,
   "metadata": {},
   "outputs": [],
   "source": [
    "def create_date_subfolder(selected_date, parent_id):\n",
    "\n",
    "    if check_date_dirs(selected_date, parent_id):\n",
    "        folder_name = selected_date.replace(' ', '-')\n",
    "        file_metadata = {\n",
    "            'name': folder_name,\n",
    "            'mimeType': 'application/vnd.google-apps.folder',\n",
    "            'parents': [f'{parent_id}']\n",
    "        }\n",
    "        gdrive_service.files().create(body=file_metadata, supportsAllDrives=True, fields='id').execute()"
   ]
  },
  {
   "cell_type": "code",
   "execution_count": 27,
   "metadata": {},
   "outputs": [],
   "source": [
    "def get_dir_id(selected_date, parent_id):\n",
    "\n",
    "    query= f\"parents = '{parent_id}'\"\n",
    "    date_fmt = selected_date.replace(' ', '-')\n",
    "\n",
    "    folder_elements = (\n",
    "        gdrive_service\n",
    "        .files()\n",
    "        .list(supportsAllDrives=True, includeItemsFromAllDrives=True, q=query)\n",
    "        .execute()\n",
    "    )\n",
    "    dates_dict = {x['name'] : x['id'] for x in folder_elements['files']}\n",
    "\n",
    "    if date_fmt in [k for k,_ in dates_dict.items()]:\n",
    "        return dates_dict[date_fmt]\n",
    "    else:\n",
    "        raise Exception('Selected date not found in bucket. Please create the directory first')"
   ]
  },
  {
   "cell_type": "code",
   "execution_count": 28,
   "metadata": {},
   "outputs": [],
   "source": [
    "def check_if_empty(parent_id):\n",
    "\n",
    "    query= f\"parents = '{parent_id}'\"\n",
    "    folder_elements = (\n",
    "        gdrive_service\n",
    "        .files()\n",
    "        .list(supportsAllDrives=True, includeItemsFromAllDrives=True, q=query)\n",
    "        .execute()\n",
    "    )\n",
    "    if folder_elements['files']:\n",
    "        return False\n",
    "    else:\n",
    "        return True"
   ]
  },
  {
   "cell_type": "markdown",
   "metadata": {},
   "source": [
    "## Step 2: Access and download the SurveyCTO data\n",
    "\n",
    "To access the data, you need the following information:\n",
    "\n",
    "1. SurveyCTO username\n",
    "2. SurveyCTO server name\n",
    "3. SurveyCTO password\n",
    "\n",
    "Create an environmental file with this information"
   ]
  },
  {
   "cell_type": "code",
   "execution_count": 29,
   "metadata": {},
   "outputs": [],
   "source": [
    "import pandas as pd\n",
    "from io import StringIO\n",
    "from pysurveycto import SurveyCTOObject\n",
    "from dotenv import load_dotenv\n",
    "\n",
    "load_dotenv()\n",
    "scto = SurveyCTOObject(\n",
    "    server_name = os.getenv(\"SCTO_server\"), \n",
    "    username    = os.getenv(\"SCTO_user\"), \n",
    "    password    = os.getenv(\"SCTO_password\")\n",
    ")\n",
    "form_data = scto.get_form_data(\n",
    "    form_id     = 'llamadas', \n",
    "    format      = 'csv'\n",
    ")\n",
    "SCTO_data = pd.read_csv(StringIO(form_data))\n",
    "SCTO_data['date_short'] = pd.to_datetime(SCTO_data['starttime']).dt.strftime('%B %d')"
   ]
  },
  {
   "cell_type": "code",
   "execution_count": 30,
   "metadata": {},
   "outputs": [
    {
     "data": {
      "application/vnd.microsoft.datawrangler.viewer.v0+json": {
       "columns": [
        {
         "name": "index",
         "rawType": "int64",
         "type": "integer"
        },
        {
         "name": "SubmissionDate",
         "rawType": "object",
         "type": "string"
        },
        {
         "name": "starttime",
         "rawType": "object",
         "type": "string"
        },
        {
         "name": "endtime",
         "rawType": "object",
         "type": "string"
        },
        {
         "name": "deviceid",
         "rawType": "object",
         "type": "string"
        },
        {
         "name": "devicephonenum",
         "rawType": "float64",
         "type": "float"
        },
        {
         "name": "username",
         "rawType": "object",
         "type": "string"
        },
        {
         "name": "device_info",
         "rawType": "object",
         "type": "string"
        },
        {
         "name": "duration",
         "rawType": "int64",
         "type": "integer"
        },
        {
         "name": "caseid",
         "rawType": "float64",
         "type": "float"
        },
        {
         "name": "id_estudiante",
         "rawType": "object",
         "type": "unknown"
        },
        {
         "name": "nombre",
         "rawType": "object",
         "type": "string"
        },
        {
         "name": "idioma",
         "rawType": "object",
         "type": "unknown"
        },
        {
         "name": "llamada",
         "rawType": "object",
         "type": "string"
        },
        {
         "name": "instanceID",
         "rawType": "object",
         "type": "string"
        },
        {
         "name": "formdef_version",
         "rawType": "int64",
         "type": "integer"
        },
        {
         "name": "review_quality",
         "rawType": "float64",
         "type": "float"
        },
        {
         "name": "review_status",
         "rawType": "object",
         "type": "string"
        },
        {
         "name": "KEY",
         "rawType": "object",
         "type": "string"
        },
        {
         "name": "date_short",
         "rawType": "object",
         "type": "string"
        }
       ],
       "conversionMethod": "pd.DataFrame",
       "ref": "ede486e3-0ec5-4336-b842-24d120f66371",
       "rows": [
        [
         "0",
         "Feb 14, 2025 3:06:31 AM",
         "Feb 14, 2025 3:04:57 AM",
         "Feb 14, 2025 3:06:19 AM",
         "9761fdb37964719f",
         null,
         "laurita.buttner@gmail.com",
         "Redmi|23117RA68G|14|SurveyCTO Collect 2.81.4 (461ba40)",
         "82",
         null,
         null,
         "Prueba de tutoría ",
         null,
         "https://tutoriastel.surveycto.com/view/submission-attachment/1739502374447.m4a?blobKey=2",
         "uuid:775a057e-9673-4c0a-bb4a-9c1336c5554d",
         "2502051553",
         null,
         "APPROVED",
         "uuid:775a057e-9673-4c0a-bb4a-9c1336c5554d",
         "February 14"
        ],
        [
         "1",
         "Feb 25, 2025 9:23:37 PM",
         "Feb 25, 2025 9:21:52 PM",
         "Feb 25, 2025 9:23:31 PM",
         "d492488efa7ca428",
         null,
         "yorkespin@gmail.com",
         "samsung|SM-A155M|14|SurveyCTO Collect 2.81.4 (461ba40)",
         "99",
         null,
         "PY12345",
         "ESTUDIANTE DE PRUEBA",
         "español",
         "https://tutoriastel.surveycto.com/view/submission-attachment/1740518587298.m4a?blobKey=3",
         "uuid:10c4650a-f9c5-4b31-a6a5-5cd5c989161c",
         "2502251134",
         null,
         "APPROVED",
         "uuid:10c4650a-f9c5-4b31-a6a5-5cd5c989161c",
         "February 25"
        ],
        [
         "2",
         "Feb 25, 2025 10:05:21 PM",
         "Feb 25, 2025 9:43:39 PM",
         "Feb 25, 2025 10:05:13 PM",
         "14c2db1d12aafb4b",
         null,
         "abareiro",
         "Redmi|23106RN0DA|14|SurveyCTO Collect 2.81.4 (461ba40)",
         "1280",
         null,
         "PY13352",
         "GONZALEZ ACOSTA MISAEL JAVIER",
         "español",
         "https://tutoriastel.surveycto.com/view/submission-attachment/1740521019776.opus?blobKey=4",
         "uuid:4836a771-a89c-4a14-9328-1c37a3457c65",
         "2502251134",
         null,
         "APPROVED",
         "uuid:4836a771-a89c-4a14-9328-1c37a3457c65",
         "February 25"
        ],
        [
         "3",
         "Feb 28, 2025 8:18:49 PM",
         "Feb 28, 2025 8:17:37 PM",
         "Feb 28, 2025 8:18:43 PM",
         "088248b5d497c6d1",
         null,
         "cobregon",
         "samsung|SM-A235M|14|SurveyCTO Collect 2.81.4 (461ba40)",
         "66",
         null,
         "PY12759",
         "ANDINO VERA JUDITH CONCEPCION",
         "español",
         "https://tutoriastel.surveycto.com/view/submission-attachment/1740773884494.m4a?blobKey=5",
         "uuid:5211a5ab-9971-432e-89e6-078143bd1555",
         "2502251134",
         null,
         "APPROVED",
         "uuid:5211a5ab-9971-432e-89e6-078143bd1555",
         "February 28"
        ],
        [
         "4",
         "Feb 28, 2025 8:59:23 PM",
         "Feb 28, 2025 8:57:10 PM",
         "Feb 28, 2025 8:59:09 PM",
         "b72323fbf55e914f",
         null,
         "lmayans",
         "Multilaser|M7_WIFI|11|SurveyCTO Collect 2.81.4 (461ba40)",
         "120",
         null,
         "PY13170",
         "VAZQUEZ LUANA JAZMIN",
         "español",
         "https://tutoriastel.surveycto.com/view/submission-attachment/1740776339828.3ga?blobKey=6",
         "uuid:d610aa21-aace-476b-9272-5326d2c0e92f",
         "2502251134",
         null,
         "APPROVED",
         "uuid:d610aa21-aace-476b-9272-5326d2c0e92f",
         "February 28"
        ],
        [
         "5",
         "Mar 2, 2025 12:24:26 AM",
         "Feb 25, 2025 9:42:45 PM",
         "Mar 2, 2025 12:23:32 AM",
         "e9831274f03d3a74",
         null,
         "lariel",
         "Redmi|2303CRA44A|14|SurveyCTO Collect 2.81.4 (461ba40)",
         "124",
         null,
         "PY12672",
         "LEZCANO VERA JAZMIN ABIGAIL",
         "español",
         "https://tutoriastel.surveycto.com/view/submission-attachment/1740874997511.m4a?blobKey=7",
         "uuid:0385c229-4785-4661-a51b-1aa0fad8cf1d",
         "2502251134",
         null,
         "APPROVED",
         "uuid:0385c229-4785-4661-a51b-1aa0fad8cf1d",
         "February 25"
        ]
       ],
       "shape": {
        "columns": 19,
        "rows": 6
       }
      },
      "text/html": [
       "<div>\n",
       "<style scoped>\n",
       "    .dataframe tbody tr th:only-of-type {\n",
       "        vertical-align: middle;\n",
       "    }\n",
       "\n",
       "    .dataframe tbody tr th {\n",
       "        vertical-align: top;\n",
       "    }\n",
       "\n",
       "    .dataframe thead th {\n",
       "        text-align: right;\n",
       "    }\n",
       "</style>\n",
       "<table border=\"1\" class=\"dataframe\">\n",
       "  <thead>\n",
       "    <tr style=\"text-align: right;\">\n",
       "      <th></th>\n",
       "      <th>SubmissionDate</th>\n",
       "      <th>starttime</th>\n",
       "      <th>endtime</th>\n",
       "      <th>deviceid</th>\n",
       "      <th>devicephonenum</th>\n",
       "      <th>username</th>\n",
       "      <th>device_info</th>\n",
       "      <th>duration</th>\n",
       "      <th>caseid</th>\n",
       "      <th>id_estudiante</th>\n",
       "      <th>nombre</th>\n",
       "      <th>idioma</th>\n",
       "      <th>llamada</th>\n",
       "      <th>instanceID</th>\n",
       "      <th>formdef_version</th>\n",
       "      <th>review_quality</th>\n",
       "      <th>review_status</th>\n",
       "      <th>KEY</th>\n",
       "      <th>date_short</th>\n",
       "    </tr>\n",
       "  </thead>\n",
       "  <tbody>\n",
       "    <tr>\n",
       "      <th>0</th>\n",
       "      <td>Feb 14, 2025 3:06:31 AM</td>\n",
       "      <td>Feb 14, 2025 3:04:57 AM</td>\n",
       "      <td>Feb 14, 2025 3:06:19 AM</td>\n",
       "      <td>9761fdb37964719f</td>\n",
       "      <td>NaN</td>\n",
       "      <td>laurita.buttner@gmail.com</td>\n",
       "      <td>Redmi|23117RA68G|14|SurveyCTO Collect 2.81.4 (...</td>\n",
       "      <td>82</td>\n",
       "      <td>NaN</td>\n",
       "      <td>NaN</td>\n",
       "      <td>Prueba de tutoría</td>\n",
       "      <td>NaN</td>\n",
       "      <td>https://tutoriastel.surveycto.com/view/submiss...</td>\n",
       "      <td>uuid:775a057e-9673-4c0a-bb4a-9c1336c5554d</td>\n",
       "      <td>2502051553</td>\n",
       "      <td>NaN</td>\n",
       "      <td>APPROVED</td>\n",
       "      <td>uuid:775a057e-9673-4c0a-bb4a-9c1336c5554d</td>\n",
       "      <td>February 14</td>\n",
       "    </tr>\n",
       "    <tr>\n",
       "      <th>1</th>\n",
       "      <td>Feb 25, 2025 9:23:37 PM</td>\n",
       "      <td>Feb 25, 2025 9:21:52 PM</td>\n",
       "      <td>Feb 25, 2025 9:23:31 PM</td>\n",
       "      <td>d492488efa7ca428</td>\n",
       "      <td>NaN</td>\n",
       "      <td>yorkespin@gmail.com</td>\n",
       "      <td>samsung|SM-A155M|14|SurveyCTO Collect 2.81.4 (...</td>\n",
       "      <td>99</td>\n",
       "      <td>NaN</td>\n",
       "      <td>PY12345</td>\n",
       "      <td>ESTUDIANTE DE PRUEBA</td>\n",
       "      <td>español</td>\n",
       "      <td>https://tutoriastel.surveycto.com/view/submiss...</td>\n",
       "      <td>uuid:10c4650a-f9c5-4b31-a6a5-5cd5c989161c</td>\n",
       "      <td>2502251134</td>\n",
       "      <td>NaN</td>\n",
       "      <td>APPROVED</td>\n",
       "      <td>uuid:10c4650a-f9c5-4b31-a6a5-5cd5c989161c</td>\n",
       "      <td>February 25</td>\n",
       "    </tr>\n",
       "    <tr>\n",
       "      <th>2</th>\n",
       "      <td>Feb 25, 2025 10:05:21 PM</td>\n",
       "      <td>Feb 25, 2025 9:43:39 PM</td>\n",
       "      <td>Feb 25, 2025 10:05:13 PM</td>\n",
       "      <td>14c2db1d12aafb4b</td>\n",
       "      <td>NaN</td>\n",
       "      <td>abareiro</td>\n",
       "      <td>Redmi|23106RN0DA|14|SurveyCTO Collect 2.81.4 (...</td>\n",
       "      <td>1280</td>\n",
       "      <td>NaN</td>\n",
       "      <td>PY13352</td>\n",
       "      <td>GONZALEZ ACOSTA MISAEL JAVIER</td>\n",
       "      <td>español</td>\n",
       "      <td>https://tutoriastel.surveycto.com/view/submiss...</td>\n",
       "      <td>uuid:4836a771-a89c-4a14-9328-1c37a3457c65</td>\n",
       "      <td>2502251134</td>\n",
       "      <td>NaN</td>\n",
       "      <td>APPROVED</td>\n",
       "      <td>uuid:4836a771-a89c-4a14-9328-1c37a3457c65</td>\n",
       "      <td>February 25</td>\n",
       "    </tr>\n",
       "    <tr>\n",
       "      <th>3</th>\n",
       "      <td>Feb 28, 2025 8:18:49 PM</td>\n",
       "      <td>Feb 28, 2025 8:17:37 PM</td>\n",
       "      <td>Feb 28, 2025 8:18:43 PM</td>\n",
       "      <td>088248b5d497c6d1</td>\n",
       "      <td>NaN</td>\n",
       "      <td>cobregon</td>\n",
       "      <td>samsung|SM-A235M|14|SurveyCTO Collect 2.81.4 (...</td>\n",
       "      <td>66</td>\n",
       "      <td>NaN</td>\n",
       "      <td>PY12759</td>\n",
       "      <td>ANDINO VERA JUDITH CONCEPCION</td>\n",
       "      <td>español</td>\n",
       "      <td>https://tutoriastel.surveycto.com/view/submiss...</td>\n",
       "      <td>uuid:5211a5ab-9971-432e-89e6-078143bd1555</td>\n",
       "      <td>2502251134</td>\n",
       "      <td>NaN</td>\n",
       "      <td>APPROVED</td>\n",
       "      <td>uuid:5211a5ab-9971-432e-89e6-078143bd1555</td>\n",
       "      <td>February 28</td>\n",
       "    </tr>\n",
       "    <tr>\n",
       "      <th>4</th>\n",
       "      <td>Feb 28, 2025 8:59:23 PM</td>\n",
       "      <td>Feb 28, 2025 8:57:10 PM</td>\n",
       "      <td>Feb 28, 2025 8:59:09 PM</td>\n",
       "      <td>b72323fbf55e914f</td>\n",
       "      <td>NaN</td>\n",
       "      <td>lmayans</td>\n",
       "      <td>Multilaser|M7_WIFI|11|SurveyCTO Collect 2.81.4...</td>\n",
       "      <td>120</td>\n",
       "      <td>NaN</td>\n",
       "      <td>PY13170</td>\n",
       "      <td>VAZQUEZ LUANA JAZMIN</td>\n",
       "      <td>español</td>\n",
       "      <td>https://tutoriastel.surveycto.com/view/submiss...</td>\n",
       "      <td>uuid:d610aa21-aace-476b-9272-5326d2c0e92f</td>\n",
       "      <td>2502251134</td>\n",
       "      <td>NaN</td>\n",
       "      <td>APPROVED</td>\n",
       "      <td>uuid:d610aa21-aace-476b-9272-5326d2c0e92f</td>\n",
       "      <td>February 28</td>\n",
       "    </tr>\n",
       "    <tr>\n",
       "      <th>5</th>\n",
       "      <td>Mar 2, 2025 12:24:26 AM</td>\n",
       "      <td>Feb 25, 2025 9:42:45 PM</td>\n",
       "      <td>Mar 2, 2025 12:23:32 AM</td>\n",
       "      <td>e9831274f03d3a74</td>\n",
       "      <td>NaN</td>\n",
       "      <td>lariel</td>\n",
       "      <td>Redmi|2303CRA44A|14|SurveyCTO Collect 2.81.4 (...</td>\n",
       "      <td>124</td>\n",
       "      <td>NaN</td>\n",
       "      <td>PY12672</td>\n",
       "      <td>LEZCANO VERA JAZMIN ABIGAIL</td>\n",
       "      <td>español</td>\n",
       "      <td>https://tutoriastel.surveycto.com/view/submiss...</td>\n",
       "      <td>uuid:0385c229-4785-4661-a51b-1aa0fad8cf1d</td>\n",
       "      <td>2502251134</td>\n",
       "      <td>NaN</td>\n",
       "      <td>APPROVED</td>\n",
       "      <td>uuid:0385c229-4785-4661-a51b-1aa0fad8cf1d</td>\n",
       "      <td>February 25</td>\n",
       "    </tr>\n",
       "  </tbody>\n",
       "</table>\n",
       "</div>"
      ],
      "text/plain": [
       "             SubmissionDate                starttime  \\\n",
       "0   Feb 14, 2025 3:06:31 AM  Feb 14, 2025 3:04:57 AM   \n",
       "1   Feb 25, 2025 9:23:37 PM  Feb 25, 2025 9:21:52 PM   \n",
       "2  Feb 25, 2025 10:05:21 PM  Feb 25, 2025 9:43:39 PM   \n",
       "3   Feb 28, 2025 8:18:49 PM  Feb 28, 2025 8:17:37 PM   \n",
       "4   Feb 28, 2025 8:59:23 PM  Feb 28, 2025 8:57:10 PM   \n",
       "5   Mar 2, 2025 12:24:26 AM  Feb 25, 2025 9:42:45 PM   \n",
       "\n",
       "                    endtime          deviceid  devicephonenum  \\\n",
       "0   Feb 14, 2025 3:06:19 AM  9761fdb37964719f             NaN   \n",
       "1   Feb 25, 2025 9:23:31 PM  d492488efa7ca428             NaN   \n",
       "2  Feb 25, 2025 10:05:13 PM  14c2db1d12aafb4b             NaN   \n",
       "3   Feb 28, 2025 8:18:43 PM  088248b5d497c6d1             NaN   \n",
       "4   Feb 28, 2025 8:59:09 PM  b72323fbf55e914f             NaN   \n",
       "5   Mar 2, 2025 12:23:32 AM  e9831274f03d3a74             NaN   \n",
       "\n",
       "                    username  \\\n",
       "0  laurita.buttner@gmail.com   \n",
       "1        yorkespin@gmail.com   \n",
       "2                   abareiro   \n",
       "3                   cobregon   \n",
       "4                    lmayans   \n",
       "5                     lariel   \n",
       "\n",
       "                                         device_info  duration  caseid  \\\n",
       "0  Redmi|23117RA68G|14|SurveyCTO Collect 2.81.4 (...        82     NaN   \n",
       "1  samsung|SM-A155M|14|SurveyCTO Collect 2.81.4 (...        99     NaN   \n",
       "2  Redmi|23106RN0DA|14|SurveyCTO Collect 2.81.4 (...      1280     NaN   \n",
       "3  samsung|SM-A235M|14|SurveyCTO Collect 2.81.4 (...        66     NaN   \n",
       "4  Multilaser|M7_WIFI|11|SurveyCTO Collect 2.81.4...       120     NaN   \n",
       "5  Redmi|2303CRA44A|14|SurveyCTO Collect 2.81.4 (...       124     NaN   \n",
       "\n",
       "  id_estudiante                         nombre   idioma  \\\n",
       "0           NaN             Prueba de tutoría       NaN   \n",
       "1       PY12345           ESTUDIANTE DE PRUEBA  español   \n",
       "2       PY13352  GONZALEZ ACOSTA MISAEL JAVIER  español   \n",
       "3       PY12759  ANDINO VERA JUDITH CONCEPCION  español   \n",
       "4       PY13170           VAZQUEZ LUANA JAZMIN  español   \n",
       "5       PY12672    LEZCANO VERA JAZMIN ABIGAIL  español   \n",
       "\n",
       "                                             llamada  \\\n",
       "0  https://tutoriastel.surveycto.com/view/submiss...   \n",
       "1  https://tutoriastel.surveycto.com/view/submiss...   \n",
       "2  https://tutoriastel.surveycto.com/view/submiss...   \n",
       "3  https://tutoriastel.surveycto.com/view/submiss...   \n",
       "4  https://tutoriastel.surveycto.com/view/submiss...   \n",
       "5  https://tutoriastel.surveycto.com/view/submiss...   \n",
       "\n",
       "                                  instanceID  formdef_version  review_quality  \\\n",
       "0  uuid:775a057e-9673-4c0a-bb4a-9c1336c5554d       2502051553             NaN   \n",
       "1  uuid:10c4650a-f9c5-4b31-a6a5-5cd5c989161c       2502251134             NaN   \n",
       "2  uuid:4836a771-a89c-4a14-9328-1c37a3457c65       2502251134             NaN   \n",
       "3  uuid:5211a5ab-9971-432e-89e6-078143bd1555       2502251134             NaN   \n",
       "4  uuid:d610aa21-aace-476b-9272-5326d2c0e92f       2502251134             NaN   \n",
       "5  uuid:0385c229-4785-4661-a51b-1aa0fad8cf1d       2502251134             NaN   \n",
       "\n",
       "  review_status                                        KEY   date_short  \n",
       "0      APPROVED  uuid:775a057e-9673-4c0a-bb4a-9c1336c5554d  February 14  \n",
       "1      APPROVED  uuid:10c4650a-f9c5-4b31-a6a5-5cd5c989161c  February 25  \n",
       "2      APPROVED  uuid:4836a771-a89c-4a14-9328-1c37a3457c65  February 25  \n",
       "3      APPROVED  uuid:5211a5ab-9971-432e-89e6-078143bd1555  February 28  \n",
       "4      APPROVED  uuid:d610aa21-aace-476b-9272-5326d2c0e92f  February 28  \n",
       "5      APPROVED  uuid:0385c229-4785-4661-a51b-1aa0fad8cf1d  February 25  "
      ]
     },
     "execution_count": 30,
     "metadata": {},
     "output_type": "execute_result"
    }
   ],
   "source": [
    "SCTO_data"
   ]
  },
  {
   "cell_type": "code",
   "execution_count": 10,
   "metadata": {},
   "outputs": [
    {
     "name": "stdout",
     "output_type": "stream",
     "text": [
      "['February 14' 'February 25' 'February 28']\n"
     ]
    }
   ],
   "source": [
    "available_dates = SCTO_data['date_short'].unique()\n",
    "print(available_dates)"
   ]
  },
  {
   "cell_type": "markdown",
   "metadata": {},
   "source": [
    "## Step 3: Delimit your cases by date\n",
    "\n",
    "**!!!Select one available date from the list above!!!**"
   ]
  },
  {
   "cell_type": "code",
   "execution_count": 32,
   "metadata": {},
   "outputs": [
    {
     "data": {
      "application/vnd.microsoft.datawrangler.viewer.v0+json": {
       "columns": [
        {
         "name": "index",
         "rawType": "int64",
         "type": "integer"
        },
        {
         "name": "SubmissionDate",
         "rawType": "object",
         "type": "string"
        },
        {
         "name": "starttime",
         "rawType": "object",
         "type": "string"
        },
        {
         "name": "endtime",
         "rawType": "object",
         "type": "string"
        },
        {
         "name": "deviceid",
         "rawType": "object",
         "type": "string"
        },
        {
         "name": "devicephonenum",
         "rawType": "float64",
         "type": "float"
        },
        {
         "name": "username",
         "rawType": "object",
         "type": "string"
        },
        {
         "name": "device_info",
         "rawType": "object",
         "type": "string"
        },
        {
         "name": "duration",
         "rawType": "int64",
         "type": "integer"
        },
        {
         "name": "caseid",
         "rawType": "float64",
         "type": "float"
        },
        {
         "name": "id_estudiante",
         "rawType": "object",
         "type": "string"
        },
        {
         "name": "nombre",
         "rawType": "object",
         "type": "string"
        },
        {
         "name": "idioma",
         "rawType": "object",
         "type": "string"
        },
        {
         "name": "llamada",
         "rawType": "object",
         "type": "string"
        },
        {
         "name": "instanceID",
         "rawType": "object",
         "type": "string"
        },
        {
         "name": "formdef_version",
         "rawType": "int64",
         "type": "integer"
        },
        {
         "name": "review_quality",
         "rawType": "float64",
         "type": "float"
        },
        {
         "name": "review_status",
         "rawType": "object",
         "type": "string"
        },
        {
         "name": "KEY",
         "rawType": "object",
         "type": "string"
        },
        {
         "name": "date_short",
         "rawType": "object",
         "type": "string"
        }
       ],
       "conversionMethod": "pd.DataFrame",
       "ref": "2baa867f-59da-402e-88bc-9f3ca8c917b5",
       "rows": [
        [
         "3",
         "Feb 28, 2025 8:18:49 PM",
         "Feb 28, 2025 8:17:37 PM",
         "Feb 28, 2025 8:18:43 PM",
         "088248b5d497c6d1",
         null,
         "cobregon",
         "samsung|SM-A235M|14|SurveyCTO Collect 2.81.4 (461ba40)",
         "66",
         null,
         "PY12759",
         "ANDINO VERA JUDITH CONCEPCION",
         "español",
         "https://tutoriastel.surveycto.com/view/submission-attachment/1740773884494.m4a?blobKey=5",
         "uuid:5211a5ab-9971-432e-89e6-078143bd1555",
         "2502251134",
         null,
         "APPROVED",
         "uuid:5211a5ab-9971-432e-89e6-078143bd1555",
         "February 28"
        ],
        [
         "4",
         "Feb 28, 2025 8:59:23 PM",
         "Feb 28, 2025 8:57:10 PM",
         "Feb 28, 2025 8:59:09 PM",
         "b72323fbf55e914f",
         null,
         "lmayans",
         "Multilaser|M7_WIFI|11|SurveyCTO Collect 2.81.4 (461ba40)",
         "120",
         null,
         "PY13170",
         "VAZQUEZ LUANA JAZMIN",
         "español",
         "https://tutoriastel.surveycto.com/view/submission-attachment/1740776339828.3ga?blobKey=6",
         "uuid:d610aa21-aace-476b-9272-5326d2c0e92f",
         "2502251134",
         null,
         "APPROVED",
         "uuid:d610aa21-aace-476b-9272-5326d2c0e92f",
         "February 28"
        ]
       ],
       "shape": {
        "columns": 19,
        "rows": 2
       }
      },
      "text/html": [
       "<div>\n",
       "<style scoped>\n",
       "    .dataframe tbody tr th:only-of-type {\n",
       "        vertical-align: middle;\n",
       "    }\n",
       "\n",
       "    .dataframe tbody tr th {\n",
       "        vertical-align: top;\n",
       "    }\n",
       "\n",
       "    .dataframe thead th {\n",
       "        text-align: right;\n",
       "    }\n",
       "</style>\n",
       "<table border=\"1\" class=\"dataframe\">\n",
       "  <thead>\n",
       "    <tr style=\"text-align: right;\">\n",
       "      <th></th>\n",
       "      <th>SubmissionDate</th>\n",
       "      <th>starttime</th>\n",
       "      <th>endtime</th>\n",
       "      <th>deviceid</th>\n",
       "      <th>devicephonenum</th>\n",
       "      <th>username</th>\n",
       "      <th>device_info</th>\n",
       "      <th>duration</th>\n",
       "      <th>caseid</th>\n",
       "      <th>id_estudiante</th>\n",
       "      <th>nombre</th>\n",
       "      <th>idioma</th>\n",
       "      <th>llamada</th>\n",
       "      <th>instanceID</th>\n",
       "      <th>formdef_version</th>\n",
       "      <th>review_quality</th>\n",
       "      <th>review_status</th>\n",
       "      <th>KEY</th>\n",
       "      <th>date_short</th>\n",
       "    </tr>\n",
       "  </thead>\n",
       "  <tbody>\n",
       "    <tr>\n",
       "      <th>3</th>\n",
       "      <td>Feb 28, 2025 8:18:49 PM</td>\n",
       "      <td>Feb 28, 2025 8:17:37 PM</td>\n",
       "      <td>Feb 28, 2025 8:18:43 PM</td>\n",
       "      <td>088248b5d497c6d1</td>\n",
       "      <td>NaN</td>\n",
       "      <td>cobregon</td>\n",
       "      <td>samsung|SM-A235M|14|SurveyCTO Collect 2.81.4 (...</td>\n",
       "      <td>66</td>\n",
       "      <td>NaN</td>\n",
       "      <td>PY12759</td>\n",
       "      <td>ANDINO VERA JUDITH CONCEPCION</td>\n",
       "      <td>español</td>\n",
       "      <td>https://tutoriastel.surveycto.com/view/submiss...</td>\n",
       "      <td>uuid:5211a5ab-9971-432e-89e6-078143bd1555</td>\n",
       "      <td>2502251134</td>\n",
       "      <td>NaN</td>\n",
       "      <td>APPROVED</td>\n",
       "      <td>uuid:5211a5ab-9971-432e-89e6-078143bd1555</td>\n",
       "      <td>February 28</td>\n",
       "    </tr>\n",
       "    <tr>\n",
       "      <th>4</th>\n",
       "      <td>Feb 28, 2025 8:59:23 PM</td>\n",
       "      <td>Feb 28, 2025 8:57:10 PM</td>\n",
       "      <td>Feb 28, 2025 8:59:09 PM</td>\n",
       "      <td>b72323fbf55e914f</td>\n",
       "      <td>NaN</td>\n",
       "      <td>lmayans</td>\n",
       "      <td>Multilaser|M7_WIFI|11|SurveyCTO Collect 2.81.4...</td>\n",
       "      <td>120</td>\n",
       "      <td>NaN</td>\n",
       "      <td>PY13170</td>\n",
       "      <td>VAZQUEZ LUANA JAZMIN</td>\n",
       "      <td>español</td>\n",
       "      <td>https://tutoriastel.surveycto.com/view/submiss...</td>\n",
       "      <td>uuid:d610aa21-aace-476b-9272-5326d2c0e92f</td>\n",
       "      <td>2502251134</td>\n",
       "      <td>NaN</td>\n",
       "      <td>APPROVED</td>\n",
       "      <td>uuid:d610aa21-aace-476b-9272-5326d2c0e92f</td>\n",
       "      <td>February 28</td>\n",
       "    </tr>\n",
       "  </tbody>\n",
       "</table>\n",
       "</div>"
      ],
      "text/plain": [
       "            SubmissionDate                starttime                  endtime  \\\n",
       "3  Feb 28, 2025 8:18:49 PM  Feb 28, 2025 8:17:37 PM  Feb 28, 2025 8:18:43 PM   \n",
       "4  Feb 28, 2025 8:59:23 PM  Feb 28, 2025 8:57:10 PM  Feb 28, 2025 8:59:09 PM   \n",
       "\n",
       "           deviceid  devicephonenum  username  \\\n",
       "3  088248b5d497c6d1             NaN  cobregon   \n",
       "4  b72323fbf55e914f             NaN   lmayans   \n",
       "\n",
       "                                         device_info  duration  caseid  \\\n",
       "3  samsung|SM-A235M|14|SurveyCTO Collect 2.81.4 (...        66     NaN   \n",
       "4  Multilaser|M7_WIFI|11|SurveyCTO Collect 2.81.4...       120     NaN   \n",
       "\n",
       "  id_estudiante                         nombre   idioma  \\\n",
       "3       PY12759  ANDINO VERA JUDITH CONCEPCION  español   \n",
       "4       PY13170           VAZQUEZ LUANA JAZMIN  español   \n",
       "\n",
       "                                             llamada  \\\n",
       "3  https://tutoriastel.surveycto.com/view/submiss...   \n",
       "4  https://tutoriastel.surveycto.com/view/submiss...   \n",
       "\n",
       "                                  instanceID  formdef_version  review_quality  \\\n",
       "3  uuid:5211a5ab-9971-432e-89e6-078143bd1555       2502251134             NaN   \n",
       "4  uuid:d610aa21-aace-476b-9272-5326d2c0e92f       2502251134             NaN   \n",
       "\n",
       "  review_status                                        KEY   date_short  \n",
       "3      APPROVED  uuid:5211a5ab-9971-432e-89e6-078143bd1555  February 28  \n",
       "4      APPROVED  uuid:d610aa21-aace-476b-9272-5326d2c0e92f  February 28  "
      ]
     },
     "execution_count": 32,
     "metadata": {},
     "output_type": "execute_result"
    }
   ],
   "source": [
    "selected_date = 'February 28'\n",
    "filtered_data = SCTO_data[SCTO_data['date_short'] == selected_date]\n",
    "filtered_data"
   ]
  },
  {
   "cell_type": "markdown",
   "metadata": {},
   "source": [
    "Play an audio sample -> The first recording from your filtered data"
   ]
  },
  {
   "cell_type": "code",
   "execution_count": 33,
   "metadata": {},
   "outputs": [
    {
     "name": "stderr",
     "output_type": "stream",
     "text": [
      "ffplay version 7.1 Copyright (c) 2003-2024 the FFmpeg developers\n",
      "  built with Apple clang version 16.0.0 (clang-1600.0.26.4)\n",
      "  configuration: --prefix=/opt/homebrew/Cellar/ffmpeg/7.1_4 --enable-shared --enable-pthreads --enable-version3 --cc=clang --host-cflags= --host-ldflags='-Wl,-ld_classic' --enable-ffplay --enable-gnutls --enable-gpl --enable-libaom --enable-libaribb24 --enable-libbluray --enable-libdav1d --enable-libharfbuzz --enable-libjxl --enable-libmp3lame --enable-libopus --enable-librav1e --enable-librist --enable-librubberband --enable-libsnappy --enable-libsrt --enable-libssh --enable-libsvtav1 --enable-libtesseract --enable-libtheora --enable-libvidstab --enable-libvmaf --enable-libvorbis --enable-libvpx --enable-libwebp --enable-libx264 --enable-libx265 --enable-libxml2 --enable-libxvid --enable-lzma --enable-libfontconfig --enable-libfreetype --enable-frei0r --enable-libass --enable-libopencore-amrnb --enable-libopencore-amrwb --enable-libopenjpeg --enable-libspeex --enable-libsoxr --enable-libzmq --enable-libzimg --disable-libjack --disable-indev=jack --enable-videotoolbox --enable-audiotoolbox --enable-neon\n",
      "  libavutil      59. 39.100 / 59. 39.100\n",
      "  libavcodec     61. 19.100 / 61. 19.100\n",
      "  libavformat    61.  7.100 / 61.  7.100\n",
      "  libavdevice    61.  3.100 / 61.  3.100\n",
      "  libavfilter    10.  4.100 / 10.  4.100\n",
      "  libswscale      8.  3.100 /  8.  3.100\n",
      "  libswresample   5.  3.100 /  5.  3.100\n",
      "  libpostproc    58.  3.100 / 58.  3.100\n",
      "Input #0, mov,mp4,m4a,3gp,3g2,mj2, from '/var/folders/7x/fdwfv0y13yz0y3sjb4mwznqm0000gp/T/tmpny3uoqw4.mp3':\n",
      "  Metadata:\n",
      "    major_brand     : mp42\n",
      "    minor_version   : 0\n",
      "    compatible_brands: isommp42\n",
      "    creation_time   : 2025-02-28T20:08:29.000000Z\n",
      "    com.android.version: 14\n",
      "  Duration: 00:11:59.36, start: 0.000000, bitrate: 96 kb/s\n",
      "  Stream #0:0[0x1](eng): Audio: aac (LC) (mp4a / 0x6134706D), 16000 Hz, mono, fltp, 96 kb/s (default)\n",
      "      Metadata:\n",
      "        creation_time   : 2025-02-28T20:08:29.000000Z\n",
      "        handler_name    : SoundHandle\n",
      "        vendor_id       : [0][0][0][0]\n",
      "   2.80 M-A:  0.000 fd=   0 aq=   19KB vq=    0KB sq=    0B \r"
     ]
    },
    {
     "data": {
      "text/plain": [
       "31488"
      ]
     },
     "execution_count": 33,
     "metadata": {},
     "output_type": "execute_result"
    }
   ],
   "source": [
    "import ffmpeg\n",
    "import tempfile\n",
    "\n",
    "sample_url = filtered_data['llamada'].iloc[0]\n",
    "sample_audio_bytes = scto.get_attachment(sample_url)\n",
    "\n",
    "# Save bytes to a temp file\n",
    "with tempfile.NamedTemporaryFile(delete=False, suffix=\".mp3\") as temp_audio:\n",
    "    temp_audio.write(sample_audio_bytes)\n",
    "    temp_sample_audio_path = temp_audio.name\n",
    "\n",
    "# Play audio using ffplay (part of ffmpeg)\n",
    "os.system(f'ffplay -nodisp -autoexit {temp_sample_audio_path}')\n"
   ]
  },
  {
   "cell_type": "markdown",
   "metadata": {},
   "source": [
    "## Step 4: Process the recordings\n",
    "\n",
    "Processing the recordings will:\n",
    "\n",
    "1. Upload the recording to Google Drive\n",
    "2. Send the recording to the AssemblyAI API"
   ]
  },
  {
   "cell_type": "code",
   "execution_count": 26,
   "metadata": {},
   "outputs": [
    {
     "name": "stdout",
     "output_type": "stream",
     "text": [
      "Directory is already present!!!\n",
      "Directory is already present!!!\n"
     ]
    }
   ],
   "source": [
    "# Use the Google Drive service to create a subfolder\n",
    "try:\n",
    "    create_date_subfolder(selected_date, buckets['recordings'])\n",
    "except Exception as e:\n",
    "    print(e)\n",
    "try:\n",
    "    create_date_subfolder(selected_date, buckets['transcripts'])\n",
    "except Exception as e:\n",
    "    print(e)"
   ]
  },
  {
   "cell_type": "code",
   "execution_count": 27,
   "metadata": {},
   "outputs": [],
   "source": [
    "from googleapiclient.http import MediaFileUpload\n",
    "import assemblyai as aai\n",
    "\n",
    "aai.settings.api_key = os.getenv(\"aai_key\")\n",
    "\n",
    "aai_config = aai.TranscriptionConfig(\n",
    "    speech_model      = aai.SpeechModel.best,\n",
    "    speaker_labels    = True,\n",
    "    # speakers_expected = n_speakers,\n",
    "    language_code     = \"es\"\n",
    ")\n",
    "\n",
    "transcriber = aai.Transcriber()"
   ]
  },
  {
   "cell_type": "code",
   "execution_count": 28,
   "metadata": {},
   "outputs": [],
   "source": [
    "def process_recordings(selected_date, force = False):\n",
    "\n",
    "    dir_id_recs = get_dir_id(selected_date, buckets['recordings'])\n",
    "    dir_id_tras = get_dir_id(selected_date, buckets['transcripts'])\n",
    "\n",
    "    if (check_if_empty(dir_id_recs) and check_if_empty(dir_id_tras)) or force:\n",
    "        \n",
    "        results = []\n",
    "\n",
    "        for i, row in filtered_data.iterrows():\n",
    "            print(f'Processing recording {i+1} of {len(filtered_data)}')\n",
    "            audio_url   = row['llamada']\n",
    "            audio_bytes = scto.get_attachment(audio_url)\n",
    "            audio_name  = f'{row['username']}_{row['id_estudiante']}.mp3'\n",
    "\n",
    "            with tempfile.NamedTemporaryFile(delete=False, suffix=\".mp3\") as temp_audio:\n",
    "                temp_audio.write(audio_bytes)\n",
    "                temp_audio_path = temp_audio.name\n",
    "\n",
    "            # Part 1: uploading recording to Google Drive\n",
    "            audio_metadata = {\n",
    "                'name': audio_name,\n",
    "                'parents': [f'{dir_id_recs}']\n",
    "            }\n",
    "            \n",
    "            media = MediaFileUpload(temp_audio_path, mimetype='audio/mpeg')\n",
    "            gdrive_service.files().create(\n",
    "                body       = audio_metadata, \n",
    "                media_body = media, \n",
    "                fields     = 'id', \n",
    "                supportsAllDrives = True\n",
    "            ).execute()\n",
    "            print(f'File {audio_name} uploaded successfully')\n",
    "\n",
    "            # Part 2: sending recording to AssemblyAI for transcription\n",
    "            transcript = transcriber.transcribe(\n",
    "                temp_audio_path,\n",
    "                config = aai_config\n",
    "            )\n",
    "            if transcript.status == aai.TranscriptStatus.completed:\n",
    "                print(f\"Transcription was completed successfully!\")\n",
    "            if transcript.status == aai.TranscriptStatus.error:\n",
    "                print(f\"Transcription failed: {transcript.error}\")\n",
    "\n",
    "            transcript_uts  = [f\"Speaker {utterance.speaker}: {utterance.text}\" for utterance in transcript.utterances]\n",
    "            full_transcript = \"\\n\".join(transcript_uts)\n",
    "            transcript_name = f'{row['username']}_{row['id_estudiante']}.txt'\n",
    "\n",
    "            results.append({\n",
    "                'username'      : row['username'],\n",
    "                'id_estudiante' : row['id_estudiante'],\n",
    "                'transcript'    : full_transcript\n",
    "            })\n",
    "\n",
    "            with tempfile.NamedTemporaryFile(delete=False, suffix=\".txt\") as temp_transcript:\n",
    "                temp_transcript.write(full_transcript.encode('utf-8'))\n",
    "                temp_transcript_path = temp_transcript.name\n",
    "\n",
    "            transcript_metadata = {\n",
    "                'name'     : transcript_name,\n",
    "                'parents'  : [f'{dir_id_tras}']\n",
    "            }\n",
    "\n",
    "            tfile = MediaFileUpload(temp_transcript_path, mimetype='text/plain')\n",
    "            gdrive_service.files().create(\n",
    "                body       = transcript_metadata, \n",
    "                media_body = tfile, \n",
    "                fields     = 'id', \n",
    "                supportsAllDrives=True\n",
    "            ).execute()\n",
    "            print(f'File {transcript_name} uploaded successfully')\n",
    "\n",
    "            os.remove(temp_audio_path)\n",
    "            os.remove(temp_transcript_path)\n",
    "\n",
    "            print(f'======================================================================')\n",
    "\n",
    "        return results\n",
    "\n",
    "    else:\n",
    "        raise Exception('Target directory is not empty. Make sure you are targeting the correct folder ID')"
   ]
  },
  {
   "cell_type": "markdown",
   "metadata": {},
   "source": [
    "**!!!THERE IS RESTRICTION IN PLACE WERE!!!**\n",
    "\n",
    "- The code will first check if the target folder in Google drive IS EMPTY or NOT EMPTY... If the target folder is **NOT EMPTY**, the code will raise an exception.\n",
    "- If you want to **bypass** this behavior, pass `force=True`in the code bellow."
   ]
  },
  {
   "cell_type": "code",
   "execution_count": 31,
   "metadata": {},
   "outputs": [
    {
     "name": "stdout",
     "output_type": "stream",
     "text": [
      "Processing recording 2 of 2\n",
      "File yorkespin@gmail.com_PY12345.mp3 uploaded successfully\n",
      "Transcription was completed successfully!\n",
      "File yorkespin@gmail.com_PY12345.txt uploaded successfully\n",
      "======================================================================\n",
      "Processing recording 3 of 2\n",
      "File abareiro_PY13352.mp3 uploaded successfully\n",
      "Transcription was completed successfully!\n",
      "File abareiro_PY13352.txt uploaded successfully\n",
      "======================================================================\n"
     ]
    }
   ],
   "source": [
    "# Processing recordings... make sure to have the correct date selected\n",
    "transcripts_list = process_recordings(selected_date, force=True)"
   ]
  },
  {
   "cell_type": "markdown",
   "metadata": {},
   "source": [
    "## Step 5: Pass the transcript to an OpenAI endpoint"
   ]
  },
  {
   "cell_type": "code",
   "execution_count": null,
   "metadata": {},
   "outputs": [],
   "source": [
    "def gen_system_prompt():\n",
    "    \n",
    "    prompt = \"\"\"\n",
    "    Eres un experto consultor en educación especializado en tutoría y métodos de enseñanza efectivos. Recibirás transcripciones de sesiones \n",
    "    de tutoría en matemáticas entre un tutor y un estudiante de primaria (cuarto a sexto grado). Tu tarea es analizar la metodología de \n",
    "    enseñanza del tutor y proporcionar recomendaciones prácticas para mejorar su desempeño.\n",
    "\n",
    "    Tu análisis debe incluir:\n",
    "\n",
    "    1. Evaluación de técnicas de explicación\n",
    "        \n",
    "        - Analiza la claridad, estructura y precisión de las explicaciones.\n",
    "        - Evalúa el uso de ejemplos, analogías y estrategias didácticas.\n",
    "        - Determina si las explicaciones están adaptadas al nivel de comprensión del estudiante.\n",
    "    \n",
    "    2. Evaluación del compromiso y la eficacia pedagógica\n",
    "\n",
    "        - Observa cómo el tutor involucra al estudiante y verifica su comprensión.\n",
    "        - Identifica si usa métodos interactivos o reflexivos para reforzar el aprendizaje.\n",
    "    \n",
    "    3. Retroalimentación constructiva\n",
    "\n",
    "        - Proporciona sugerencias específicas y accionables para mejorar su enseñanza.\n",
    "        - Considera prácticas como simplificar conceptos, usar ejemplos relevantes, resumir puntos clave y fomentar la participación.\n",
    "        - Asegúrate de que la retroalimentación sea objetiva, alentadora y orientada al crecimiento profesional del tutor.\n",
    "    \n",
    "    4. Consideraciones y contexto\n",
    "\n",
    "        - Basa tu evaluación en la transcripción proporcionada y en buenas prácticas pedagógicas.\n",
    "        - Mantén un tono claro, breve y amable, ya que el tutor leerá directamente las recomendaciones.\n",
    "    \n",
    "    Tu respuesta debe consistir exclusivamente en un conjunto de recomendaciones derivadas de tu evaluación.\n",
    "    \"\"\"\n",
    "\n",
    "    return prompt"
   ]
  },
  {
   "cell_type": "code",
   "execution_count": null,
   "metadata": {},
   "outputs": [],
   "source": [
    "def gen_context_prompt(full_transcript):\n",
    "   \n",
    "    prompt = f\"\"\"\n",
    "    La siguiente es una transcripción de una sesión de tutoría de matemáticas entre un tutor y un estudiante de cuarto a sexto grado de \n",
    "    primaria:\n",
    "\n",
    "    [INICIO DE LA TRANSCRIPCIÓN]\n",
    "\n",
    "    {full_transcript}\n",
    "\n",
    "    [FIN DE LA TRANSCRIPCIÓN]\n",
    "\n",
    "    La transcripción puede contener errores y omisiones, especialmente en intervenciones cortas. No te enfoques en errores gramaticales o \n",
    "    tipográficos. Además, la transcripción separa las intervenciones por interlocutor, pero no especifica quién es el tutor y quién es el \n",
    "    estudiante. Deberás inferirlo según el contenido.\n",
    "\n",
    "    INSTRUCCIONES:\n",
    "\n",
    "    Con base en la transcripción, evalúa las técnicas de explicación, el compromiso y la eficacia pedagógica del tutor. Luego, elabora un \n",
    "    conjunto estructurado de recomendaciones breves y específicas para mejorar su enseñanza.\n",
    "\n",
    "    Asegúrate de que tu retroalimentación sea:\n",
    "\n",
    "    - Objetiva, alentadora y enfocada en el crecimiento profesional del tutor.\n",
    "    - Limitada a 800 caracteres.\n",
    "    - Escrita en formato de lista con viñetas, sin títulos ni encabezados.\n",
    "    - Directa y clara, ya que será leída directamente por el tutor.\n",
    "\n",
    "    ASPECTOS A EVALUAR:\n",
    "\n",
    "    - Estructura de la tutoría: ¿Hay una introducción clara y un cierre efectivo?\n",
    "    - Interacción: ¿El estudiante participa activamente? ¿El tutor verifica su comprensión? ¿Cómo responde el tutor a las preguntas y dudas?\n",
    "    - Técnicas pedagógicas: ¿Se usan ejemplos relevantes y estrategias efectivas?\n",
    "    - Manejo del tiempo: ¿El tutor ajusta el ritmo y aprovecha los 30 minutos disponibles?\n",
    "    - Aspectos específicos: Claridad de explicaciones, detección de confusiones, motivación del estudiante, uso de preguntas guía.\n",
    "\n",
    "    CONSIDERACIONES ADICIONALES:\n",
    "\n",
    "    - Concéntrate en la forma en que el tutor enseña, no en modificar el contenido de la guía de ejercicios.\n",
    "    - Evita resaltar aspectos positivos, salvo para contrastarlos con áreas de mejora.\n",
    "    - Recuerda que el estudiante tiene entre 8 y 10 años, por lo que las explicaciones deben ser adecuadas a su nivel.\n",
    "    - Enfoca tu set de recomendaciones EXCLUSIVAMENTE en los aspectos a mejorar y en las acciones específicas para lograrlo.\n",
    "    - Procura ser amable en tus recomendaciones.\n",
    "\n",
    "    Gracias por tu valiosa contribución a la mejora de la calidad educativa.\n",
    "    \"\"\"\n",
    "\n",
    "    return prompt"
   ]
  },
  {
   "cell_type": "code",
   "execution_count": 35,
   "metadata": {},
   "outputs": [
    {
     "name": "stdout",
     "output_type": "stream",
     "text": [
      "Directory is already present!!!\n"
     ]
    }
   ],
   "source": [
    "# Use the Google Drive service to create a subfolder\n",
    "try:\n",
    "    create_date_subfolder(selected_date, buckets['feedback'])\n",
    "except Exception as e:\n",
    "    print(e)"
   ]
  },
  {
   "cell_type": "code",
   "execution_count": 36,
   "metadata": {},
   "outputs": [],
   "source": [
    "from openai import OpenAI\n",
    "\n",
    "def get_feedback(selected_date, transcripts, force = False):\n",
    "\n",
    "    dir_id_feed = get_dir_id(selected_date, buckets['feedback'])\n",
    "\n",
    "    if check_if_empty(dir_id_feed) or force:\n",
    "        \n",
    "        client = OpenAI(\n",
    "            api_key = os.getenv(\"OPENAI_API_KEY\")\n",
    "        )\n",
    "\n",
    "        for item in transcripts:\n",
    "\n",
    "            print(f'Processing recording {item['username']}_{item['id_estudiante']}')\n",
    "\n",
    "            history = [\n",
    "                {\"role\": \"system\", \"content\": gen_system_prompt()},\n",
    "                {\"role\": \"user\",   \"content\": gen_context_prompt(item['transcript'])}\n",
    "            ]\n",
    "\n",
    "            chat_completion = client.chat.completions.create(\n",
    "                messages = history,\n",
    "                model    = \"gpt-4o-2024-08-06\"\n",
    "            )\n",
    "\n",
    "            feedback = chat_completion.choices[0].message.content\n",
    "            feedback_name = f'{item['username']}_{item['id_estudiante']}.txt'\n",
    "\n",
    "            with tempfile.NamedTemporaryFile(delete=False, suffix=\".txt\") as temp_feedback:\n",
    "                temp_feedback.write(feedback.encode('utf-8'))\n",
    "                temp_feedback_path = temp_feedback.name\n",
    "\n",
    "            feedback_metadata = {\n",
    "                'name'     : feedback_name,\n",
    "                'parents'  : [f'{dir_id_feed}']\n",
    "            }\n",
    "\n",
    "            tfile = MediaFileUpload(temp_feedback_path, mimetype='text/plain')\n",
    "            gdrive_service.files().create(\n",
    "                body       = feedback_metadata, \n",
    "                media_body = tfile, \n",
    "                fields     = 'id', \n",
    "                supportsAllDrives=True\n",
    "            ).execute()\n",
    "            print(f'File {feedback_name} uploaded successfully')\n",
    "\n",
    "            os.remove(temp_feedback_path)\n",
    "\n",
    "            print(f'======================================================================')\n",
    "\n",
    "    else:\n",
    "        raise Exception('Target directory is not empty. Make sure you are targeting the correct folder ID')"
   ]
  },
  {
   "cell_type": "markdown",
   "metadata": {},
   "source": [
    "**!!!THERE IS RESTRICTION IN PLACE WERE!!!**\n",
    "\n",
    "- The code will first check if the target folder in Google drive IS EMPTY or NOT EMPTY... If the target folder is **NOT EMPTY**, the code will raise an exception.\n",
    "- If you want to **bypass** this behavior, pass `force=True`in the code bellow."
   ]
  },
  {
   "cell_type": "code",
   "execution_count": 38,
   "metadata": {},
   "outputs": [
    {
     "name": "stdout",
     "output_type": "stream",
     "text": [
      "Processing recording yorkespin@gmail.com_PY12345\n",
      "File yorkespin@gmail.com_PY12345.txt uploaded successfully\n",
      "======================================================================\n",
      "Processing recording abareiro_PY13352\n",
      "File abareiro_PY13352.txt uploaded successfully\n",
      "======================================================================\n"
     ]
    }
   ],
   "source": [
    "# Processing transcripts... make sure to have the correct date selected\n",
    "get_feedback(selected_date, transcripts_list, force=True)"
   ]
  }
 ],
 "metadata": {
  "kernelspec": {
   "display_name": "learning-sessions-ai",
   "language": "python",
   "name": "python3"
  },
  "language_info": {
   "codemirror_mode": {
    "name": "ipython",
    "version": 3
   },
   "file_extension": ".py",
   "mimetype": "text/x-python",
   "name": "python",
   "nbconvert_exporter": "python",
   "pygments_lexer": "ipython3",
   "version": "3.13.2"
  }
 },
 "nbformat": 4,
 "nbformat_minor": 2
}
