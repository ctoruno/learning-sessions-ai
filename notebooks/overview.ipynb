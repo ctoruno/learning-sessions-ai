{
 "cells": [
  {
   "cell_type": "markdown",
   "metadata": {},
   "source": [
    "## Step 1: Create a Google Drive Service"
   ]
  },
  {
   "cell_type": "code",
   "execution_count": 1,
   "metadata": {},
   "outputs": [],
   "source": [
    "import os\n",
    "from google.oauth2.credentials import Credentials\n",
    "from googleapiclient.discovery import build"
   ]
  },
  {
   "cell_type": "code",
   "execution_count": 2,
   "metadata": {},
   "outputs": [],
   "source": [
    "def create_service(token_file_name, api_service_name, api_version, scopes):\n",
    "\n",
    "    working_dir = os.getcwd()\n",
    "    token_dir   = 'token_files'\n",
    "    creds = Credentials.from_authorized_user_file(os.path.join(working_dir, token_dir, token_file_name), scopes)\n",
    "    \n",
    "    try:\n",
    "        service = build(api_service_name, api_version, credentials=creds, static_discovery=False)\n",
    "        print(api_service_name, api_version, 'service created successfully')\n",
    "        return service\n",
    "    except Exception as e:\n",
    "        print(e)\n",
    "        print(f'Failed to create service instance for {api_service_name}')\n",
    "        os.remove(os.path.join(working_dir, token_dir, token_file_name))\n",
    "        return None"
   ]
  },
  {
   "cell_type": "markdown",
   "metadata": {},
   "source": [
    "To create a Google Drive service, you need to have the following files:\n",
    "- token file for Google Drive\n",
    "\n",
    "If you don't have it, please create one using the `create_token_files.ipynb` routine."
   ]
  },
  {
   "cell_type": "code",
   "execution_count": 3,
   "metadata": {},
   "outputs": [
    {
     "name": "stdout",
     "output_type": "stream",
     "text": [
      "drive v3 service created successfully\n"
     ]
    }
   ],
   "source": [
    "gdrive_service = create_service(\n",
    "    token_file_name  = 'token_drive_v3_t1.json', \n",
    "    api_service_name = 'drive', \n",
    "    api_version      = 'v3', \n",
    "    scopes           = ['https://www.googleapis.com/auth/drive']\n",
    ")"
   ]
  },
  {
   "cell_type": "code",
   "execution_count": 111,
   "metadata": {},
   "outputs": [],
   "source": [
    "buckets = {\n",
    "    'recordings'  : '1z2nxlaCc6QPY9yIwUMIz_58-2DagVSJc',\n",
    "    'transcripts' : '14c_oSCVHEkSBb59-68qJlJmSu9-WYqfO',\n",
    "    'feedback'    : '1FKJ5dez8TJAoSIiCtVR6P1rYTrwSE0TT'\n",
    "}"
   ]
  },
  {
   "cell_type": "code",
   "execution_count": null,
   "metadata": {},
   "outputs": [],
   "source": [
    "def check_date_dirs(selected_date, parent_id):\n",
    "    query= f\"parents = '{parent_id}'\"\n",
    "    current_dates = gdrive_service.files().list(supportsAllDrives=True, includeItemsFromAllDrives=True, q=query).execute()\n",
    "    if selected_date.replace(' ', '-') not in [x['name'] for x in current_dates['files']]:\n",
    "        print('No directory found for the selected date')\n",
    "        return True\n",
    "    else:\n",
    "        raise Exception('Directory is already present!!!')"
   ]
  },
  {
   "cell_type": "code",
   "execution_count": 98,
   "metadata": {},
   "outputs": [],
   "source": [
    "def create_date_subfolder(selected_date, parent_id):\n",
    "\n",
    "    if check_date_dirs(selected_date, parent_id):\n",
    "        folder_name = selected_date.replace(' ', '-')\n",
    "        file_metadata = {\n",
    "            'name': folder_name,\n",
    "            'mimeType': 'application/vnd.google-apps.folder',\n",
    "            'parents': [f'{parent_id}']\n",
    "        }\n",
    "        gdrive_service.files().create(body=file_metadata, supportsAllDrives=True, fields='id').execute()"
   ]
  },
  {
   "cell_type": "code",
   "execution_count": 124,
   "metadata": {},
   "outputs": [],
   "source": [
    "def get_dir_id(selected_date, parent_id):\n",
    "\n",
    "    query= f\"parents = '{parent_id}'\"\n",
    "    date_fmt = selected_date.replace(' ', '-')\n",
    "\n",
    "    folder_elements = (\n",
    "        gdrive_service\n",
    "        .files()\n",
    "        .list(supportsAllDrives=True, includeItemsFromAllDrives=True, q=query)\n",
    "        .execute()\n",
    "    )\n",
    "    dates_dict = {x['name'] : x['id'] for x in folder_elements['files']}\n",
    "\n",
    "    if date_fmt in [k for k,_ in dates_dict.items()]:\n",
    "        return dates_dict[date_fmt]\n",
    "    else:\n",
    "        raise Exception('Selected date not found in bucket. Please create the directory first')"
   ]
  },
  {
   "cell_type": "code",
   "execution_count": 147,
   "metadata": {},
   "outputs": [],
   "source": [
    "def check_if_empty(parent_id):\n",
    "\n",
    "    query= f\"parents = '{parent_id}'\"\n",
    "    folder_elements = (\n",
    "        gdrive_service\n",
    "        .files()\n",
    "        .list(supportsAllDrives=True, includeItemsFromAllDrives=True, q=query)\n",
    "        .execute()\n",
    "    )\n",
    "    if folder_elements['files']:\n",
    "        raise Exception('Directory is not empty. Make sure you are targeting the correct folder ID')\n",
    "    else:\n",
    "        return True"
   ]
  },
  {
   "cell_type": "markdown",
   "metadata": {},
   "source": [
    "## Step 2: Access and download the SurveyCTO data\n",
    "\n",
    "To access the data, you need the following information:\n",
    "\n",
    "1. SurveyCTO username\n",
    "2. SurveyCTO server name\n",
    "3. SurveyCTO password\n",
    "\n",
    "Create an environmental file with this information"
   ]
  },
  {
   "cell_type": "code",
   "execution_count": 4,
   "metadata": {},
   "outputs": [],
   "source": [
    "import pandas as pd\n",
    "from io import StringIO\n",
    "from pysurveycto import SurveyCTOObject\n",
    "from dotenv import load_dotenv\n",
    "\n",
    "load_dotenv()\n",
    "scto = SurveyCTOObject(\n",
    "    server_name = os.getenv(\"SCTO_server\"), \n",
    "    username    = os.getenv(\"SCTO_user\"), \n",
    "    password    = os.getenv(\"SCTO_password\")\n",
    ")\n",
    "form_data = scto.get_form_data(\n",
    "    form_id     = 'llamadas', \n",
    "    format      = 'csv'\n",
    ")\n",
    "SCTO_data = pd.read_csv(StringIO(form_data))\n",
    "SCTO_data['date_short'] = pd.to_datetime(SCTO_data['starttime']).dt.strftime('%B %d')"
   ]
  },
  {
   "cell_type": "code",
   "execution_count": 5,
   "metadata": {},
   "outputs": [
    {
     "data": {
      "application/vnd.microsoft.datawrangler.viewer.v0+json": {
       "columns": [
        {
         "name": "index",
         "rawType": "int64",
         "type": "integer"
        },
        {
         "name": "SubmissionDate",
         "rawType": "object",
         "type": "string"
        },
        {
         "name": "starttime",
         "rawType": "object",
         "type": "string"
        },
        {
         "name": "endtime",
         "rawType": "object",
         "type": "string"
        },
        {
         "name": "deviceid",
         "rawType": "object",
         "type": "string"
        },
        {
         "name": "devicephonenum",
         "rawType": "float64",
         "type": "float"
        },
        {
         "name": "username",
         "rawType": "object",
         "type": "string"
        },
        {
         "name": "device_info",
         "rawType": "object",
         "type": "string"
        },
        {
         "name": "duration",
         "rawType": "int64",
         "type": "integer"
        },
        {
         "name": "caseid",
         "rawType": "float64",
         "type": "float"
        },
        {
         "name": "id_estudiante",
         "rawType": "float64",
         "type": "float"
        },
        {
         "name": "nombre",
         "rawType": "object",
         "type": "string"
        },
        {
         "name": "idioma",
         "rawType": "float64",
         "type": "float"
        },
        {
         "name": "llamada",
         "rawType": "object",
         "type": "string"
        },
        {
         "name": "instanceID",
         "rawType": "object",
         "type": "string"
        },
        {
         "name": "formdef_version",
         "rawType": "int64",
         "type": "integer"
        },
        {
         "name": "review_quality",
         "rawType": "float64",
         "type": "float"
        },
        {
         "name": "review_status",
         "rawType": "object",
         "type": "string"
        },
        {
         "name": "KEY",
         "rawType": "object",
         "type": "string"
        },
        {
         "name": "date_short",
         "rawType": "object",
         "type": "string"
        }
       ],
       "conversionMethod": "pd.DataFrame",
       "ref": "fae3b82f-1fbe-4177-9a46-e39a93030e65",
       "rows": [
        [
         "0",
         "Feb 14, 2025 3:06:31 AM",
         "Feb 14, 2025 3:04:57 AM",
         "Feb 14, 2025 3:06:19 AM",
         "9761fdb37964719f",
         null,
         "laurita.buttner@gmail.com",
         "Redmi|23117RA68G|14|SurveyCTO Collect 2.81.4 (461ba40)",
         "82",
         null,
         null,
         "Prueba de tutoría ",
         null,
         "https://tutoriastel.surveycto.com/view/submission-attachment/1739502374447.m4a?blobKey=2",
         "uuid:775a057e-9673-4c0a-bb4a-9c1336c5554d",
         "2502051553",
         null,
         "APPROVED",
         "uuid:775a057e-9673-4c0a-bb4a-9c1336c5554d",
         "February 14"
        ]
       ],
       "shape": {
        "columns": 19,
        "rows": 1
       }
      },
      "text/html": [
       "<div>\n",
       "<style scoped>\n",
       "    .dataframe tbody tr th:only-of-type {\n",
       "        vertical-align: middle;\n",
       "    }\n",
       "\n",
       "    .dataframe tbody tr th {\n",
       "        vertical-align: top;\n",
       "    }\n",
       "\n",
       "    .dataframe thead th {\n",
       "        text-align: right;\n",
       "    }\n",
       "</style>\n",
       "<table border=\"1\" class=\"dataframe\">\n",
       "  <thead>\n",
       "    <tr style=\"text-align: right;\">\n",
       "      <th></th>\n",
       "      <th>SubmissionDate</th>\n",
       "      <th>starttime</th>\n",
       "      <th>endtime</th>\n",
       "      <th>deviceid</th>\n",
       "      <th>devicephonenum</th>\n",
       "      <th>username</th>\n",
       "      <th>device_info</th>\n",
       "      <th>duration</th>\n",
       "      <th>caseid</th>\n",
       "      <th>id_estudiante</th>\n",
       "      <th>nombre</th>\n",
       "      <th>idioma</th>\n",
       "      <th>llamada</th>\n",
       "      <th>instanceID</th>\n",
       "      <th>formdef_version</th>\n",
       "      <th>review_quality</th>\n",
       "      <th>review_status</th>\n",
       "      <th>KEY</th>\n",
       "      <th>date_short</th>\n",
       "    </tr>\n",
       "  </thead>\n",
       "  <tbody>\n",
       "    <tr>\n",
       "      <th>0</th>\n",
       "      <td>Feb 14, 2025 3:06:31 AM</td>\n",
       "      <td>Feb 14, 2025 3:04:57 AM</td>\n",
       "      <td>Feb 14, 2025 3:06:19 AM</td>\n",
       "      <td>9761fdb37964719f</td>\n",
       "      <td>NaN</td>\n",
       "      <td>laurita.buttner@gmail.com</td>\n",
       "      <td>Redmi|23117RA68G|14|SurveyCTO Collect 2.81.4 (...</td>\n",
       "      <td>82</td>\n",
       "      <td>NaN</td>\n",
       "      <td>NaN</td>\n",
       "      <td>Prueba de tutoría</td>\n",
       "      <td>NaN</td>\n",
       "      <td>https://tutoriastel.surveycto.com/view/submiss...</td>\n",
       "      <td>uuid:775a057e-9673-4c0a-bb4a-9c1336c5554d</td>\n",
       "      <td>2502051553</td>\n",
       "      <td>NaN</td>\n",
       "      <td>APPROVED</td>\n",
       "      <td>uuid:775a057e-9673-4c0a-bb4a-9c1336c5554d</td>\n",
       "      <td>February 14</td>\n",
       "    </tr>\n",
       "  </tbody>\n",
       "</table>\n",
       "</div>"
      ],
      "text/plain": [
       "            SubmissionDate                starttime                  endtime  \\\n",
       "0  Feb 14, 2025 3:06:31 AM  Feb 14, 2025 3:04:57 AM  Feb 14, 2025 3:06:19 AM   \n",
       "\n",
       "           deviceid  devicephonenum                   username  \\\n",
       "0  9761fdb37964719f             NaN  laurita.buttner@gmail.com   \n",
       "\n",
       "                                         device_info  duration  caseid  \\\n",
       "0  Redmi|23117RA68G|14|SurveyCTO Collect 2.81.4 (...        82     NaN   \n",
       "\n",
       "   id_estudiante              nombre  idioma  \\\n",
       "0            NaN  Prueba de tutoría      NaN   \n",
       "\n",
       "                                             llamada  \\\n",
       "0  https://tutoriastel.surveycto.com/view/submiss...   \n",
       "\n",
       "                                  instanceID  formdef_version  review_quality  \\\n",
       "0  uuid:775a057e-9673-4c0a-bb4a-9c1336c5554d       2502051553             NaN   \n",
       "\n",
       "  review_status                                        KEY   date_short  \n",
       "0      APPROVED  uuid:775a057e-9673-4c0a-bb4a-9c1336c5554d  February 14  "
      ]
     },
     "execution_count": 5,
     "metadata": {},
     "output_type": "execute_result"
    }
   ],
   "source": [
    "SCTO_data"
   ]
  },
  {
   "cell_type": "code",
   "execution_count": 7,
   "metadata": {},
   "outputs": [
    {
     "name": "stdout",
     "output_type": "stream",
     "text": [
      "['February 14']\n"
     ]
    }
   ],
   "source": [
    "available_dates = SCTO_data['date_short'].unique()\n",
    "print(available_dates)"
   ]
  },
  {
   "cell_type": "markdown",
   "metadata": {},
   "source": [
    "## Step 3: Delimit your cases by date\n",
    "\n",
    "!!!Select one available date from the list above!!!"
   ]
  },
  {
   "cell_type": "code",
   "execution_count": 8,
   "metadata": {},
   "outputs": [
    {
     "data": {
      "application/vnd.microsoft.datawrangler.viewer.v0+json": {
       "columns": [
        {
         "name": "index",
         "rawType": "int64",
         "type": "integer"
        },
        {
         "name": "SubmissionDate",
         "rawType": "object",
         "type": "string"
        },
        {
         "name": "starttime",
         "rawType": "object",
         "type": "string"
        },
        {
         "name": "endtime",
         "rawType": "object",
         "type": "string"
        },
        {
         "name": "deviceid",
         "rawType": "object",
         "type": "string"
        },
        {
         "name": "devicephonenum",
         "rawType": "float64",
         "type": "float"
        },
        {
         "name": "username",
         "rawType": "object",
         "type": "string"
        },
        {
         "name": "device_info",
         "rawType": "object",
         "type": "string"
        },
        {
         "name": "duration",
         "rawType": "int64",
         "type": "integer"
        },
        {
         "name": "caseid",
         "rawType": "float64",
         "type": "float"
        },
        {
         "name": "id_estudiante",
         "rawType": "float64",
         "type": "float"
        },
        {
         "name": "nombre",
         "rawType": "object",
         "type": "string"
        },
        {
         "name": "idioma",
         "rawType": "float64",
         "type": "float"
        },
        {
         "name": "llamada",
         "rawType": "object",
         "type": "string"
        },
        {
         "name": "instanceID",
         "rawType": "object",
         "type": "string"
        },
        {
         "name": "formdef_version",
         "rawType": "int64",
         "type": "integer"
        },
        {
         "name": "review_quality",
         "rawType": "float64",
         "type": "float"
        },
        {
         "name": "review_status",
         "rawType": "object",
         "type": "string"
        },
        {
         "name": "KEY",
         "rawType": "object",
         "type": "string"
        },
        {
         "name": "date_short",
         "rawType": "object",
         "type": "string"
        }
       ],
       "conversionMethod": "pd.DataFrame",
       "ref": "9a73f7a0-2d14-4da4-9e1b-d8d26624dad6",
       "rows": [
        [
         "0",
         "Feb 14, 2025 3:06:31 AM",
         "Feb 14, 2025 3:04:57 AM",
         "Feb 14, 2025 3:06:19 AM",
         "9761fdb37964719f",
         null,
         "laurita.buttner@gmail.com",
         "Redmi|23117RA68G|14|SurveyCTO Collect 2.81.4 (461ba40)",
         "82",
         null,
         null,
         "Prueba de tutoría ",
         null,
         "https://tutoriastel.surveycto.com/view/submission-attachment/1739502374447.m4a?blobKey=2",
         "uuid:775a057e-9673-4c0a-bb4a-9c1336c5554d",
         "2502051553",
         null,
         "APPROVED",
         "uuid:775a057e-9673-4c0a-bb4a-9c1336c5554d",
         "February 14"
        ]
       ],
       "shape": {
        "columns": 19,
        "rows": 1
       }
      },
      "text/html": [
       "<div>\n",
       "<style scoped>\n",
       "    .dataframe tbody tr th:only-of-type {\n",
       "        vertical-align: middle;\n",
       "    }\n",
       "\n",
       "    .dataframe tbody tr th {\n",
       "        vertical-align: top;\n",
       "    }\n",
       "\n",
       "    .dataframe thead th {\n",
       "        text-align: right;\n",
       "    }\n",
       "</style>\n",
       "<table border=\"1\" class=\"dataframe\">\n",
       "  <thead>\n",
       "    <tr style=\"text-align: right;\">\n",
       "      <th></th>\n",
       "      <th>SubmissionDate</th>\n",
       "      <th>starttime</th>\n",
       "      <th>endtime</th>\n",
       "      <th>deviceid</th>\n",
       "      <th>devicephonenum</th>\n",
       "      <th>username</th>\n",
       "      <th>device_info</th>\n",
       "      <th>duration</th>\n",
       "      <th>caseid</th>\n",
       "      <th>id_estudiante</th>\n",
       "      <th>nombre</th>\n",
       "      <th>idioma</th>\n",
       "      <th>llamada</th>\n",
       "      <th>instanceID</th>\n",
       "      <th>formdef_version</th>\n",
       "      <th>review_quality</th>\n",
       "      <th>review_status</th>\n",
       "      <th>KEY</th>\n",
       "      <th>date_short</th>\n",
       "    </tr>\n",
       "  </thead>\n",
       "  <tbody>\n",
       "    <tr>\n",
       "      <th>0</th>\n",
       "      <td>Feb 14, 2025 3:06:31 AM</td>\n",
       "      <td>Feb 14, 2025 3:04:57 AM</td>\n",
       "      <td>Feb 14, 2025 3:06:19 AM</td>\n",
       "      <td>9761fdb37964719f</td>\n",
       "      <td>NaN</td>\n",
       "      <td>laurita.buttner@gmail.com</td>\n",
       "      <td>Redmi|23117RA68G|14|SurveyCTO Collect 2.81.4 (...</td>\n",
       "      <td>82</td>\n",
       "      <td>NaN</td>\n",
       "      <td>NaN</td>\n",
       "      <td>Prueba de tutoría</td>\n",
       "      <td>NaN</td>\n",
       "      <td>https://tutoriastel.surveycto.com/view/submiss...</td>\n",
       "      <td>uuid:775a057e-9673-4c0a-bb4a-9c1336c5554d</td>\n",
       "      <td>2502051553</td>\n",
       "      <td>NaN</td>\n",
       "      <td>APPROVED</td>\n",
       "      <td>uuid:775a057e-9673-4c0a-bb4a-9c1336c5554d</td>\n",
       "      <td>February 14</td>\n",
       "    </tr>\n",
       "  </tbody>\n",
       "</table>\n",
       "</div>"
      ],
      "text/plain": [
       "            SubmissionDate                starttime                  endtime  \\\n",
       "0  Feb 14, 2025 3:06:31 AM  Feb 14, 2025 3:04:57 AM  Feb 14, 2025 3:06:19 AM   \n",
       "\n",
       "           deviceid  devicephonenum                   username  \\\n",
       "0  9761fdb37964719f             NaN  laurita.buttner@gmail.com   \n",
       "\n",
       "                                         device_info  duration  caseid  \\\n",
       "0  Redmi|23117RA68G|14|SurveyCTO Collect 2.81.4 (...        82     NaN   \n",
       "\n",
       "   id_estudiante              nombre  idioma  \\\n",
       "0            NaN  Prueba de tutoría      NaN   \n",
       "\n",
       "                                             llamada  \\\n",
       "0  https://tutoriastel.surveycto.com/view/submiss...   \n",
       "\n",
       "                                  instanceID  formdef_version  review_quality  \\\n",
       "0  uuid:775a057e-9673-4c0a-bb4a-9c1336c5554d       2502051553             NaN   \n",
       "\n",
       "  review_status                                        KEY   date_short  \n",
       "0      APPROVED  uuid:775a057e-9673-4c0a-bb4a-9c1336c5554d  February 14  "
      ]
     },
     "execution_count": 8,
     "metadata": {},
     "output_type": "execute_result"
    }
   ],
   "source": [
    "selected_date = 'February 14'\n",
    "filtered_data = SCTO_data[SCTO_data['date_short'] == selected_date]\n",
    "filtered_data"
   ]
  },
  {
   "cell_type": "markdown",
   "metadata": {},
   "source": [
    "Play an audio sample -> The first recording from your filtered data"
   ]
  },
  {
   "cell_type": "code",
   "execution_count": 12,
   "metadata": {},
   "outputs": [
    {
     "name": "stderr",
     "output_type": "stream",
     "text": [
      "ffplay version 7.1 Copyright (c) 2003-2024 the FFmpeg developers\n",
      "  built with Apple clang version 16.0.0 (clang-1600.0.26.4)\n",
      "  configuration: --prefix=/opt/homebrew/Cellar/ffmpeg/7.1_4 --enable-shared --enable-pthreads --enable-version3 --cc=clang --host-cflags= --host-ldflags='-Wl,-ld_classic' --enable-ffplay --enable-gnutls --enable-gpl --enable-libaom --enable-libaribb24 --enable-libbluray --enable-libdav1d --enable-libharfbuzz --enable-libjxl --enable-libmp3lame --enable-libopus --enable-librav1e --enable-librist --enable-librubberband --enable-libsnappy --enable-libsrt --enable-libssh --enable-libsvtav1 --enable-libtesseract --enable-libtheora --enable-libvidstab --enable-libvmaf --enable-libvorbis --enable-libvpx --enable-libwebp --enable-libx264 --enable-libx265 --enable-libxml2 --enable-libxvid --enable-lzma --enable-libfontconfig --enable-libfreetype --enable-frei0r --enable-libass --enable-libopencore-amrnb --enable-libopencore-amrwb --enable-libopenjpeg --enable-libspeex --enable-libsoxr --enable-libzmq --enable-libzimg --disable-libjack --disable-indev=jack --enable-videotoolbox --enable-audiotoolbox --enable-neon\n",
      "  libavutil      59. 39.100 / 59. 39.100\n",
      "  libavcodec     61. 19.100 / 61. 19.100\n",
      "  libavformat    61.  7.100 / 61.  7.100\n",
      "  libavdevice    61.  3.100 / 61.  3.100\n",
      "  libavfilter    10.  4.100 / 10.  4.100\n",
      "  libswscale      8.  3.100 /  8.  3.100\n",
      "  libswresample   5.  3.100 /  5.  3.100\n",
      "  libpostproc    58.  3.100 / 58.  3.100\n",
      "Input #0, mov,mp4,m4a,3gp,3g2,mj2, from '/var/folders/7x/fdwfv0y13yz0y3sjb4mwznqm0000gp/T/tmpbb5gyxu1.mp3':\n",
      "  Metadata:\n",
      "    major_brand     : 3gp4\n",
      "    minor_version   : 0\n",
      "    compatible_brands: isom3gp4\n",
      "    creation_time   : 2025-02-13T21:16:06.000000Z\n",
      "    com.android.version: 14\n",
      "  Duration: 00:14:51.51, start: 0.000000, bitrate: 129 kb/s\n",
      "  Stream #0:0[0x1](eng): Audio: aac (LC) (mp4a / 0x6134706D), 48000 Hz, mono, fltp, 128 kb/s (default)\n",
      "      Metadata:\n",
      "        creation_time   : 2025-02-13T21:16:06.000000Z\n",
      "        handler_name    : SoundHandle\n",
      "        vendor_id       : [0][0][0][0]\n",
      "   7.21 M-A:  0.000 fd=   0 aq=   16KB vq=    0KB sq=    0B \r"
     ]
    },
    {
     "data": {
      "text/plain": [
       "31488"
      ]
     },
     "execution_count": 12,
     "metadata": {},
     "output_type": "execute_result"
    }
   ],
   "source": [
    "import ffmpeg\n",
    "import tempfile\n",
    "\n",
    "sample_url = filtered_data['llamada'].iloc[0]\n",
    "sample_audio_bytes = scto.get_attachment(sample_url)\n",
    "\n",
    "# Save bytes to a temp file\n",
    "with tempfile.NamedTemporaryFile(delete=False, suffix=\".mp3\") as temp_audio:\n",
    "    temp_audio.write(sample_audio_bytes)\n",
    "    temp_sample_audio_path = temp_audio.name\n",
    "\n",
    "# Play audio using ffplay (part of ffmpeg)\n",
    "os.system(f'ffplay -nodisp -autoexit {temp_sample_audio_path}')\n"
   ]
  },
  {
   "cell_type": "markdown",
   "metadata": {},
   "source": [
    "## Step 4: Process the recordings\n",
    "\n",
    "Processing the recordings will:\n",
    "\n",
    "1. Upload the recording to Google Drive\n",
    "2. Send the recording to the Assembly API"
   ]
  },
  {
   "cell_type": "code",
   "execution_count": null,
   "metadata": {},
   "outputs": [],
   "source": [
    "# Use the Google Drive service to create a subfolder\n",
    "create_date_subfolder(selected_date, buckets['recordings'])"
   ]
  },
  {
   "cell_type": "code",
   "execution_count": null,
   "metadata": {},
   "outputs": [],
   "source": [
    "from googleapiclient.http import MediaFileUpload\n",
    "import assemblyai as aai\n",
    "\n",
    "load_dotenv()\n",
    "aai.settings.api_key = os.getenv(\"aai_key\")\n",
    "\n",
    "aai_config = aai.TranscriptionConfig(\n",
    "    speech_model      = aai.SpeechModel.best,\n",
    "    speaker_labels    = True,\n",
    "    # speakers_expected = n_speakers,\n",
    "    language_code     = \"es\"\n",
    ")\n",
    "\n",
    "transcriber = aai.Transcriber()"
   ]
  },
  {
   "cell_type": "code",
   "execution_count": null,
   "metadata": {},
   "outputs": [],
   "source": [
    "def process_recordings(selected_date):\n",
    "\n",
    "    dir_id = get_dir_id(selected_date, buckets['recordings'])\n",
    "\n",
    "    if check_if_empty(dir_id):\n",
    "    \n",
    "        for i, row in filtered_data.iterrows():\n",
    "            print(f'Processing recording {i+1} of {len(filtered_data)}')\n",
    "            audio_url   = row['llamada']\n",
    "            audio_bytes = scto.get_attachment(audio_url)\n",
    "            audio_name  = f'{row['deviceid']}_{row['username']}.mp3'\n",
    "\n",
    "            with tempfile.NamedTemporaryFile(delete=False, suffix=\".mp3\") as temp_audio:\n",
    "                temp_audio.write(audio_bytes)\n",
    "                temp_audio_path = temp_audio.name\n",
    "\n",
    "            # Part 1: uploading recording to Google Drive\n",
    "            audio_metadata = {\n",
    "                'name': audio_name,\n",
    "                'parents': [f'{dir_id}']\n",
    "            }\n",
    "            media = MediaFileUpload(temp_audio_path, mimetype='audio/mpeg')\n",
    "            gdrive_service.files().create(body=audio_metadata, media_body=media, fields='id', supportsAllDrives=True).execute()\n",
    "            print(f'File {audio_name} uploaded successfully')\n",
    "\n",
    "            # Part 1: sending recording to AssemblyAI for transcription\n",
    "            transcript = transcriber.transcribe(\n",
    "                temp_audio_path,\n",
    "                config = aai_config\n",
    "            )\n",
    "            if transcript.status == aai.TranscriptStatus.completed:\n",
    "                print(f\"Transcription was completed successfully!\")\n",
    "            if transcript.status == aai.TranscriptStatus.error:\n",
    "                print(f\"Transcription failed: {transcript.error}\")\n",
    "            transcript_uts = [f\"Speaker {utterance.speaker}: {utterance.text}\" for utterance in transcript.utterances]\n",
    "            full_transcript = \"\\n\".join(transcript_uts)\n",
    "\n",
    "            os.remove(temp_audio_path)\n",
    "\n",
    "    else:\n",
    "        raise Exception('Directory is not empty. Make sure you are targeting the correct folder ID')"
   ]
  },
  {
   "cell_type": "code",
   "execution_count": null,
   "metadata": {},
   "outputs": [],
   "source": [
    "# Uploading recordings... make sure to have the correct date selected\n",
    "save_recordings_to_gdrive(selected_date)"
   ]
  },
  {
   "cell_type": "markdown",
   "metadata": {},
   "source": [
    "## Step 5: Process the recordings with AssemblyAI API"
   ]
  },
  {
   "cell_type": "code",
   "execution_count": 158,
   "metadata": {},
   "outputs": [
    {
     "data": {
      "text/plain": [
       "'b2789cfb44904616b9637bb48974564e'"
      ]
     },
     "execution_count": 158,
     "metadata": {},
     "output_type": "execute_result"
    }
   ],
   "source": [
    "os.getenv(\"aai_key\")"
   ]
  }
 ],
 "metadata": {
  "kernelspec": {
   "display_name": "learning-sessions-ai",
   "language": "python",
   "name": "python3"
  },
  "language_info": {
   "codemirror_mode": {
    "name": "ipython",
    "version": 3
   },
   "file_extension": ".py",
   "mimetype": "text/x-python",
   "name": "python",
   "nbconvert_exporter": "python",
   "pygments_lexer": "ipython3",
   "version": "3.13.2"
  }
 },
 "nbformat": 4,
 "nbformat_minor": 2
}
