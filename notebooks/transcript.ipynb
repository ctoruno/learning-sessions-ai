{
 "cells": [
  {
   "cell_type": "code",
   "execution_count": 2,
   "metadata": {},
   "outputs": [],
   "source": [
    "from pyannote.audio import Pipeline\n",
    "from dotenv import load_dotenv\n",
    "import os"
   ]
  },
  {
   "cell_type": "code",
   "execution_count": null,
   "metadata": {},
   "outputs": [],
   "source": [
    "load_dotenv()\n",
    " \n",
    "target         = \"audio_session_3\"\n",
    "audio_file     = \"../recordings/{target}.wav\"\n",
    "access_token   = os.getenv(\"hf_token\")\n",
    "latest_ds_path = \"../recordings/latest_ds\"\n",
    "language       = \"en\""
   ]
  },
  {
   "cell_type": "code",
   "execution_count": null,
   "metadata": {},
   "outputs": [
    {
     "name": "stderr",
     "output_type": "stream",
     "text": [
      "/Users/carlostoruno/general/lib/python3.13/site-packages/pyannote/audio/models/blocks/pooling.py:103: UserWarning: std(): degrees of freedom is <= 0. Correction should be strictly less than the reduction factor (input numel divided by output numel). (Triggered internally at /Users/runner/work/pytorch/pytorch/pytorch/aten/src/ATen/native/ReduceOps.cpp:1831.)\n",
      "  std = sequences.std(dim=-1, correction=1)\n"
     ]
    }
   ],
   "source": [
    "pipeline = Pipeline.from_pretrained(\n",
    "    \"pyannote/speaker-diarization-3.1\",\n",
    "    token = access_token\n",
    ")\n",
    "diarization = pipeline(audio_file)"
   ]
  },
  {
   "cell_type": "code",
   "execution_count": 19,
   "metadata": {},
   "outputs": [
    {
     "name": "stdout",
     "output_type": "stream",
     "text": [
      "Speaker SPEAKER_00 speaks from 1.80s to 2.65s\n",
      "Speaker SPEAKER_01 speaks from 2.76s to 3.64s\n",
      "Speaker SPEAKER_00 speaks from 3.95s to 6.12s\n",
      "Speaker SPEAKER_01 speaks from 6.44s to 10.27s\n",
      "Speaker SPEAKER_00 speaks from 10.27s to 12.27s\n",
      "Speaker SPEAKER_01 speaks from 12.55s to 16.28s\n",
      "Speaker SPEAKER_00 speaks from 16.43s to 19.99s\n",
      "Speaker SPEAKER_00 speaks from 21.16s to 21.24s\n",
      "Speaker SPEAKER_01 speaks from 21.24s to 22.22s\n",
      "Speaker SPEAKER_01 speaks from 22.80s to 25.87s\n",
      "Speaker SPEAKER_00 speaks from 25.38s to 25.51s\n"
     ]
    }
   ],
   "source": [
    "for segment, _, speaker in diarization.itertracks(yield_label=True):\n",
    "    print(f\"Speaker {speaker} speaks from {segment.start:.2f}s to {segment.end:.2f}s\")"
   ]
  },
  {
   "cell_type": "code",
   "execution_count": null,
   "metadata": {},
   "outputs": [],
   "source": [
    "from pydub import AudioSegment\n",
    "\n",
    "# I needed to run: pip3 install audioop-lts\n",
    "# See: https://github.com/jiaaro/pydub/issues/725#issuecomment-2439291764\n",
    "\n",
    "audio = AudioSegment.from_file(audio_file)\n"
   ]
  },
  {
   "cell_type": "code",
   "execution_count": 85,
   "metadata": {},
   "outputs": [],
   "source": [
    "for i, (segment, _, speaker) in enumerate(diarization.itertracks(yield_label=True)):\n",
    "    start_ms = int(segment.start * 1000)  # convert seconds to milliseconds\n",
    "    end_ms = int(segment.end * 1000)\n",
    "    speaker_audio = audio[start_ms:end_ms]\n",
    "    speaker_audio.export(f\"{latest_ds_path}/chunk_{i}_{speaker}.wav\", format=\"wav\")"
   ]
  },
  {
   "cell_type": "code",
   "execution_count": null,
   "metadata": {},
   "outputs": [],
   "source": [
    "import whisper\n",
    "\n",
    "# Defining a path to ffmpeg binary\n",
    "# Installed using homebrew for MacOS\n",
    "# In zsh terminals, homebrew needs to be manually added to the PATH.\n",
    "\n",
    "ffmpeg_path = \"/opt/homebrew/bin/ffmpeg\"  \n",
    "os.environ['PATH'] += f':{os.path.dirname(ffmpeg_path)}'"
   ]
  },
  {
   "cell_type": "code",
   "execution_count": 12,
   "metadata": {},
   "outputs": [],
   "source": [
    "model  = whisper.load_model(\"turbo\")\n",
    "\n",
    "# If following error appears:\n",
    "# urllib.error.URLError: <urlopen error [SSL: CERTIFICATE_VERIFY_FAILED] certificate verify failed: unable to get local issuer certificate , \n",
    "# Do the following:\n",
    "# 1. Open the folder /Applications/Python 3.x (x is the version you are running).\n",
    "# 2. Double click the Install Certificates.command. It will open a terminal and install the certificate."
   ]
  },
  {
   "cell_type": "code",
   "execution_count": 70,
   "metadata": {},
   "outputs": [],
   "source": [
    "import re\n",
    "\n",
    "def get_transcript(audio_chunk):\n",
    "\n",
    "    speaker_id = re.search(\"(?<=SPEAKER_).+(?=\\\\.wav)\", audio_chunk).group(0)\n",
    "    speaker = f\"SPEAKER_{speaker_id}\"\n",
    "\n",
    "    result = model.transcribe(\n",
    "        f\"{latest_ds_path}/{audio_chunk}\", \n",
    "        language = language, \n",
    "        fp16     = False, \n",
    "        verbose  = True\n",
    "    )\n",
    "\n",
    "    return(f\"{speaker}: {result[\"text\"]}\")"
   ]
  },
  {
   "cell_type": "code",
   "execution_count": null,
   "metadata": {},
   "outputs": [
    {
     "name": "stdout",
     "output_type": "stream",
     "text": [
      "[00:00.000 --> 00:00.840]  Good morning.\n",
      "[00:00.000 --> 00:00.660]  Hi, good morning.\n",
      "[00:00.000 --> 00:02.340]  Can you believe how much snow is outside?\n",
      "[00:00.000 --> 00:03.480]  It looks like a lot. I can't believe they were accurate with their predictions.\n",
      "[00:00.000 --> 00:01.720]  I know. Have you been outside?\n",
      "[00:00.000 --> 00:03.560]  I have. Your cat was hiding underneath the stairs out back.\n",
      "[00:00.000 --> 00:01.240]  Oh my goodness.\n",
      "[00:02.360 --> 00:03.560]  I think we should go sledding.\n",
      "[00:00.000 --> 00:29.980]  Thank you.\n",
      "[00:00.000 --> 00:00.500]  Hmm.\n",
      "[00:00.000 --> 00:01.480]  I don't feel like slitting.\n",
      "[00:02.480 --> 00:02.900]  Thank you.\n",
      "[00:00.000 --> 00:03.020]  this\n"
     ]
    }
   ],
   "source": [
    "audio_chunks_list = os.listdir(latest_ds_path)\n",
    "audio_chunks_list = [x for x in audio_chunks_list if \".wav\" in x] \n",
    "sorted_chunks     = sorted(audio_chunks_list, key=lambda s: int(s.split('_')[1]))\n",
    "\n",
    "transcripts_list  = [get_transcript(x) for x in sorted_chunks] "
   ]
  },
  {
   "cell_type": "code",
   "execution_count": 74,
   "metadata": {},
   "outputs": [],
   "source": [
    "full_transcript = \"\\n\".join(transcripts_list)"
   ]
  },
  {
   "cell_type": "code",
   "execution_count": 80,
   "metadata": {},
   "outputs": [],
   "source": [
    "with open(f\"../transcripts/{target}.txt\", \"w\") as f:\n",
    "    f.write(full_transcript)"
   ]
  },
  {
   "cell_type": "code",
   "execution_count": 86,
   "metadata": {},
   "outputs": [],
   "source": [
    "for f in sorted_chunks:\n",
    "    os.remove(f\"{latest_ds_path}/{f}\")"
   ]
  }
 ],
 "metadata": {
  "kernelspec": {
   "display_name": "general",
   "language": "python",
   "name": "python3"
  },
  "language_info": {
   "codemirror_mode": {
    "name": "ipython",
    "version": 3
   },
   "file_extension": ".py",
   "mimetype": "text/x-python",
   "name": "python",
   "nbconvert_exporter": "python",
   "pygments_lexer": "ipython3",
   "version": "3.13.2"
  }
 },
 "nbformat": 4,
 "nbformat_minor": 2
}
