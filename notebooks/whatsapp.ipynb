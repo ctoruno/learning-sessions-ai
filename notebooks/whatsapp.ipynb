{
 "cells": [
  {
   "cell_type": "markdown",
   "metadata": {},
   "source": [
    "## Testing WhatsApp Automatic Messaging\n",
    "\n",
    "### Step 1: Load required libraries and secret tokens"
   ]
  },
  {
   "cell_type": "code",
   "execution_count": 1,
   "metadata": {},
   "outputs": [],
   "source": [
    "import os\n",
    "import requests\n",
    "from dotenv import load_dotenv"
   ]
  },
  {
   "cell_type": "code",
   "execution_count": null,
   "metadata": {},
   "outputs": [],
   "source": [
    "load_dotenv()\n",
    "phone_id  = os.getenv('wa_phone')\n",
    "token     = os.getenv('wa_token')"
   ]
  },
  {
   "cell_type": "markdown",
   "metadata": {},
   "source": [
    "#### Step 2: Define a testing message (max 1,000 characters)"
   ]
  },
  {
   "cell_type": "code",
   "execution_count": null,
   "metadata": {},
   "outputs": [],
   "source": [
    "name = 'Christian Obregón'\n",
    "feedback = '''\n",
    "(1) Estructura las explicaciones en pasos claros y pausados para asegurar que el estudiante siga cada parte de la multiplicación. Por ejemplo, cuando explicaste el ejercicio \"18 por seis\", podrías haber verificado la comprensión después de cada paso antes de continuar.\n",
    "(2) Fomenta la participación del estudiante mediante preguntas abiertas y reflexivas, en lugar de solo confirmar respuestas correctas. Por ejemplo, \"¿Por qué debemos llevar el uno aquí?\".\n",
    "(3) Mejora la transición entre ejercicios explicando brevemente qué habilidad estás desarrollando con cada nuevo problema.\n",
    "(4) Ajusta el ritmo de la sesión preguntando después de algunos ejercicios cómo se siente el estudiante con el material, lo que permitirá ajustar la velocidad si es necesario.\n",
    "'''\n",
    "recipient = '595984947525'"
   ]
  },
  {
   "cell_type": "code",
   "execution_count": 30,
   "metadata": {},
   "outputs": [],
   "source": [
    "import re\n",
    "feedback_nospaces = re.sub(\n",
    "    '\\\\n|-', '', feedback\n",
    ").strip()"
   ]
  },
  {
   "cell_type": "markdown",
   "metadata": {},
   "source": [
    "#### Step 3: Define your headers and body content following Meta Graph API Documentation"
   ]
  },
  {
   "cell_type": "code",
   "execution_count": 31,
   "metadata": {},
   "outputs": [],
   "source": [
    "url = f'https://graph.facebook.com/v22.0/{phone_id}/messages'\n",
    "headers = {\n",
    "    'Authorization': f'Bearer {token}',\n",
    "    'Content-Type': 'application/json'\n",
    "}\n",
    "data = {\n",
    "    'messaging_product': 'whatsapp',\n",
    "    'recipient_type': 'individual',\n",
    "    'to': f'{recipient}',\n",
    "    'type': 'template',\n",
    "    'template': {\n",
    "        'name': 'feedback_tutorias_2',\n",
    "        'language': {\n",
    "            'code': 'es'\n",
    "        },\n",
    "        'components': [\n",
    "            {\n",
    "                'type': 'body',\n",
    "                'parameters': [\n",
    "                    {\n",
    "                        'type': 'text',\n",
    "                        'parameter_name': \"name_tutor\",\n",
    "                        'text': f'{name}'\n",
    "                    },\n",
    "                    {\n",
    "                        'type': 'text',\n",
    "                        'parameter_name': \"feedback\",\n",
    "                        'text': f'{feedback_nospaces}'\n",
    "                    },\n",
    "                ]\n",
    "            }\n",
    "        ]\n",
    "    }\n",
    "}\n"
   ]
  },
  {
   "cell_type": "markdown",
   "metadata": {},
   "source": [
    "#### Step 5: Send message and preview state (Code 200 = Message Sent)"
   ]
  },
  {
   "cell_type": "code",
   "execution_count": 32,
   "metadata": {},
   "outputs": [],
   "source": [
    "response = requests.post(url, headers=headers, json=data)"
   ]
  },
  {
   "cell_type": "code",
   "execution_count": 33,
   "metadata": {},
   "outputs": [
    {
     "name": "stdout",
     "output_type": "stream",
     "text": [
      "200\n",
      "{'messaging_product': 'whatsapp', 'contacts': [{'input': '595972611548', 'wa_id': '595972611548'}], 'messages': [{'id': 'wamid.HBgMNTk1OTcyNjExNTQ4FQIAERgSN0RFNEU1QzBDMzE2NzdEMUM3AA==', 'message_status': 'accepted'}]}\n"
     ]
    }
   ],
   "source": [
    "print(response.status_code)\n",
    "print(response.json())"
   ]
  }
 ],
 "metadata": {
  "kernelspec": {
   "display_name": "learning-sessions-ai",
   "language": "python",
   "name": "python3"
  },
  "language_info": {
   "codemirror_mode": {
    "name": "ipython",
    "version": 3
   },
   "file_extension": ".py",
   "mimetype": "text/x-python",
   "name": "python",
   "nbconvert_exporter": "python",
   "pygments_lexer": "ipython3",
   "version": "3.13.2"
  }
 },
 "nbformat": 4,
 "nbformat_minor": 2
}
