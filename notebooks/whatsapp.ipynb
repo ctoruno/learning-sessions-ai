{
 "cells": [
  {
   "cell_type": "code",
   "execution_count": 1,
   "metadata": {},
   "outputs": [],
   "source": [
    "import os\n",
    "import requests\n",
    "from dotenv import load_dotenv"
   ]
  },
  {
   "cell_type": "code",
   "execution_count": 2,
   "metadata": {},
   "outputs": [],
   "source": [
    "load_dotenv()\n",
    "phone_id  = os.getenv('wa_phone')\n",
    "token     = os.getenv('wa_token_temp')"
   ]
  },
  {
   "cell_type": "code",
   "execution_count": 14,
   "metadata": {},
   "outputs": [],
   "source": [
    "name = 'Christian Obregón'\n",
    "feedback = '''\n",
    "(1) Estructura las explicaciones en pasos claros y pausados para asegurar que el estudiante siga cada parte de la multiplicación. Por ejemplo, cuando explicaste el ejercicio \"18 por seis\", podrías haber verificado la comprensión después de cada paso antes de continuar.\n",
    "(2) Fomenta la participación del estudiante mediante preguntas abiertas y reflexivas, en lugar de solo confirmar respuestas correctas. Por ejemplo, \"¿Por qué debemos llevar el uno aquí?\".\n",
    "(3) Mejora la transición entre ejercicios explicando brevemente qué habilidad estás desarrollando con cada nuevo problema.\n",
    "(4) Ajusta el ritmo de la sesión preguntando después de algunos ejercicios cómo se siente el estudiante con el material, lo que permitirá ajustar la velocidad si es necesario.\n",
    "'''\n",
    "# recipient = '17869289137'\n",
    "recipient = '595984947525'"
   ]
  },
  {
   "cell_type": "code",
   "execution_count": 19,
   "metadata": {},
   "outputs": [],
   "source": [
    "name = 'Lucas Morel'\n",
    "feedback = '''\n",
    "(1) Usa más preguntas abiertas para dirigir el pensamiento del estudiante, como \"¿Por qué crees que te dio ese resultado?\" para fomentar el razonamiento.\n",
    "(2) Verifica continuamente la comprensión pidiendo al estudiante que explique en sus propias palabras los pasos seguidos en el ejercicio.\n",
    "(3) Simplifica las explicaciones breves y concisas cuando el estudiante muestra signos de confusión, como en el tema de la resta con préstamo.\n",
    "(4) Introduce ejemplos de la vida cotidiana al explicar conceptos matemáticos. Por ejemplo, hablar de repartir manzanas entre amigos fortalece la comprensión de la división.\n",
    "(5) Ofrece una retroalimentación positiva específica, como \"Hiciste un gran trabajo al recordar cómo se hace el préstamo en la resta\".\n",
    "'''\n",
    "recipient = '595994253166'"
   ]
  },
  {
   "cell_type": "code",
   "execution_count": 29,
   "metadata": {},
   "outputs": [],
   "source": [
    "name = 'Larissa Mayans'\n",
    "feedback = '''\n",
    "(1) Incorpora más preguntas guía abiertas para fomentar un pensamiento crítico y verificar comprensión, como \"¿Por qué crees que es importante prestar en la resta?\".\n",
    "(2) Considera repetir las explicaciones claves de distinta manera si detectas algún error, como en el caso de la resta, y verificar que comprende el proceso de \"prestar del vecino\" con más ejemplos si es necesario.\n",
    "(3) Verifica la comprensión del estudiante con más frecuencia pidiéndole que explique el proceso que usó para llegar a la respuesta en sus propias palabras.\n",
    "(4) Utiliza preguntas reflexivas para fomentar el autoaprendizaje: \"¿Qué podrías hacer diferente si te equivocaras en una resta?\".\n",
    "'''\n",
    "recipient = '595972611548'"
   ]
  },
  {
   "cell_type": "code",
   "execution_count": 30,
   "metadata": {},
   "outputs": [],
   "source": [
    "import re\n",
    "feedback_nospaces = re.sub(\n",
    "    '\\\\n|-', '', feedback\n",
    ").strip()"
   ]
  },
  {
   "cell_type": "code",
   "execution_count": 31,
   "metadata": {},
   "outputs": [],
   "source": [
    "url = f'https://graph.facebook.com/v22.0/{phone_id}/messages'\n",
    "headers = {\n",
    "    'Authorization': f'Bearer {token}',\n",
    "    'Content-Type': 'application/json'\n",
    "}\n",
    "data = {\n",
    "    'messaging_product': 'whatsapp',\n",
    "    'recipient_type': 'individual',\n",
    "    'to': f'{recipient}',\n",
    "    'type': 'template',\n",
    "    'template': {\n",
    "        'name': 'feedback_tutorias_2',\n",
    "        'language': {\n",
    "            'code': 'es'\n",
    "        },\n",
    "        'components': [\n",
    "            {\n",
    "                'type': 'body',\n",
    "                'parameters': [\n",
    "                    {\n",
    "                        'type': 'text',\n",
    "                        'parameter_name': \"name_tutor\",\n",
    "                        'text': f'{name}'\n",
    "                    },\n",
    "                    {\n",
    "                        'type': 'text',\n",
    "                        'parameter_name': \"feedback\",\n",
    "                        'text': f'{feedback_nospaces}'\n",
    "                    },\n",
    "                ]\n",
    "            }\n",
    "        ]\n",
    "    }\n",
    "}\n"
   ]
  },
  {
   "cell_type": "code",
   "execution_count": 32,
   "metadata": {},
   "outputs": [],
   "source": [
    "response = requests.post(url, headers=headers, json=data)"
   ]
  },
  {
   "cell_type": "code",
   "execution_count": 33,
   "metadata": {},
   "outputs": [
    {
     "name": "stdout",
     "output_type": "stream",
     "text": [
      "200\n",
      "{'messaging_product': 'whatsapp', 'contacts': [{'input': '595972611548', 'wa_id': '595972611548'}], 'messages': [{'id': 'wamid.HBgMNTk1OTcyNjExNTQ4FQIAERgSN0RFNEU1QzBDMzE2NzdEMUM3AA==', 'message_status': 'accepted'}]}\n"
     ]
    }
   ],
   "source": [
    "print(response.status_code)\n",
    "print(response.json())"
   ]
  }
 ],
 "metadata": {
  "kernelspec": {
   "display_name": "learning-sessions-ai",
   "language": "python",
   "name": "python3"
  },
  "language_info": {
   "codemirror_mode": {
    "name": "ipython",
    "version": 3
   },
   "file_extension": ".py",
   "mimetype": "text/x-python",
   "name": "python",
   "nbconvert_exporter": "python",
   "pygments_lexer": "ipython3",
   "version": "3.13.2"
  }
 },
 "nbformat": 4,
 "nbformat_minor": 2
}
