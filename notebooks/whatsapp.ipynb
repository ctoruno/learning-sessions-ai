{
 "cells": [
  {
   "cell_type": "code",
   "execution_count": 1,
   "metadata": {},
   "outputs": [],
   "source": [
    "import os\n",
    "import requests\n",
    "from dotenv import load_dotenv"
   ]
  },
  {
   "cell_type": "code",
   "execution_count": 8,
   "metadata": {},
   "outputs": [],
   "source": [
    "load_dotenv()\n",
    "phone_id  = os.getenv('wa_phone')\n",
    "token     = os.getenv('wa_token_temp')\n",
    "recipient = '573192499151'"
   ]
  },
  {
   "cell_type": "code",
   "execution_count": 9,
   "metadata": {},
   "outputs": [],
   "source": [
    "load_dotenv()\n",
    "\n",
    "url = f'https://graph.facebook.com/v22.0/{phone_id}/messages'\n",
    "headers = {\n",
    "    'Authorization': f'Bearer {token}',\n",
    "    'Content-Type': 'application/json'\n",
    "}\n",
    "data = {\n",
    "    'messaging_product': 'whatsapp',\n",
    "    'recipient_type': 'individual',\n",
    "    'to': f'{recipient}',\n",
    "    'type': 'template',\n",
    "    'template': {\n",
    "        'name': 'feedbacktutorias',\n",
    "        'language': {\n",
    "            'code': 'es'\n",
    "        },\n",
    "        'components': [\n",
    "            {\n",
    "                'type': 'body',\n",
    "                'parameters': [\n",
    "                    {\n",
    "                        'type': 'text',\n",
    "                        'parameter_name': \"name_tutor\",\n",
    "                        'text': 'Bejino bejino'\n",
    "                    },\n",
    "                    {\n",
    "                        'type': 'text',\n",
    "                        'parameter_name': \"feedback\",\n",
    "                        'text': 'Si te llega esto es porque el código ya puede enviar mensajes por WhatsApp. Solo hay un problema, hay que generar un código cada vez. No me funciona el permanente.'\n",
    "                    },\n",
    "                ]\n",
    "            }\n",
    "        ]\n",
    "    }\n",
    "}\n"
   ]
  },
  {
   "cell_type": "code",
   "execution_count": 10,
   "metadata": {},
   "outputs": [],
   "source": [
    "response = requests.post(url, headers=headers, json=data)"
   ]
  },
  {
   "cell_type": "code",
   "execution_count": 11,
   "metadata": {},
   "outputs": [
    {
     "name": "stdout",
     "output_type": "stream",
     "text": [
      "200\n",
      "{'messaging_product': 'whatsapp', 'contacts': [{'input': '573192499151', 'wa_id': '573192499151'}], 'messages': [{'id': 'wamid.HBgMNTczMTkyNDk5MTUxFQIAERgSN0IyRTM0QzgxMTE5QkYwOTlDAA==', 'message_status': 'accepted'}]}\n"
     ]
    }
   ],
   "source": [
    "print(response.status_code)\n",
    "print(response.json())"
   ]
  }
 ],
 "metadata": {
  "kernelspec": {
   "display_name": "learning-sessions-ai",
   "language": "python",
   "name": "python3"
  },
  "language_info": {
   "codemirror_mode": {
    "name": "ipython",
    "version": 3
   },
   "file_extension": ".py",
   "mimetype": "text/x-python",
   "name": "python",
   "nbconvert_exporter": "python",
   "pygments_lexer": "ipython3",
   "version": "3.13.2"
  }
 },
 "nbformat": 4,
 "nbformat_minor": 2
}
