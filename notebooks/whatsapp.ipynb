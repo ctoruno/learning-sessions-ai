{
 "cells": [
  {
   "cell_type": "code",
   "execution_count": 1,
   "metadata": {},
   "outputs": [],
   "source": [
    "import os\n",
    "import requests\n",
    "from dotenv import load_dotenv"
   ]
  },
  {
   "cell_type": "code",
   "execution_count": 2,
   "metadata": {},
   "outputs": [],
   "source": [
    "load_dotenv()\n",
    "phone_id  = os.getenv('wa_phone')\n",
    "token     = os.getenv('wa_token')\n",
    "recipient = '17869289137'"
   ]
  },
  {
   "cell_type": "code",
   "execution_count": 3,
   "metadata": {},
   "outputs": [],
   "source": [
    "name = 'Ana Yanina Bareiro'\n",
    "feedback = '''\n",
    "- Fomenta la participación del estudiante con preguntas dirigidas y anímalo a preguntar. Por ejemplo, puedes decir, \"¿Misael, qué crees que deberíamos hacer a continuación?\".\n",
    "- Utiliza ejemplos relacionados con el contexto del estudiante para mantener el interés y facilitar el aprendizaje. Pregunta sobre situaciones cotidianas donde podría emplear las matemáticas.\n",
    "- Considera ajustar el ritmo de la sesión basándote en las respuestas del estudiante; si parece inseguro o indeciso, tómate más tiempo para ese tema antes de avanzar.\n",
    "'''"
   ]
  },
  {
   "cell_type": "code",
   "execution_count": 4,
   "metadata": {},
   "outputs": [],
   "source": [
    "import re\n",
    "feedback_nospaces = re.sub(\n",
    "    '\\\\n|-', '', feedback\n",
    ").strip()"
   ]
  },
  {
   "cell_type": "code",
   "execution_count": 5,
   "metadata": {},
   "outputs": [],
   "source": [
    "url = f'https://graph.facebook.com/v22.0/{phone_id}/messages'\n",
    "headers = {\n",
    "    'Authorization': f'Bearer {token}',\n",
    "    'Content-Type': 'application/json'\n",
    "}\n",
    "data = {\n",
    "    'messaging_product': 'whatsapp',\n",
    "    'recipient_type': 'individual',\n",
    "    'to': f'{recipient}',\n",
    "    'type': 'template',\n",
    "    'template': {\n",
    "        'name': 'recomendaciones',\n",
    "        'language': {\n",
    "            'code': 'es'\n",
    "        },\n",
    "        'components': [\n",
    "            {\n",
    "                'type': 'body',\n",
    "                'parameters': [\n",
    "                    {\n",
    "                        'type': 'text',\n",
    "                        'parameter_name': \"name_tutor\",\n",
    "                        'text': f'{name}'\n",
    "                    },\n",
    "                    {\n",
    "                        'type': 'text',\n",
    "                        'parameter_name': \"feedback\",\n",
    "                        'text': f'{feedback_nospaces}'\n",
    "                    },\n",
    "                ]\n",
    "            }\n",
    "        ]\n",
    "    }\n",
    "}\n"
   ]
  },
  {
   "cell_type": "code",
   "execution_count": 6,
   "metadata": {},
   "outputs": [],
   "source": [
    "response = requests.post(url, headers=headers, json=data)"
   ]
  },
  {
   "cell_type": "code",
   "execution_count": 7,
   "metadata": {},
   "outputs": [
    {
     "name": "stdout",
     "output_type": "stream",
     "text": [
      "200\n",
      "{'messaging_product': 'whatsapp', 'contacts': [{'input': '17869289137', 'wa_id': '17869289137'}], 'messages': [{'id': 'wamid.HBgLMTc4NjkyODkxMzcVAgARGBI1OEIwQkE3RDRFNEY3NTYxRTcA', 'message_status': 'accepted'}]}\n"
     ]
    }
   ],
   "source": [
    "print(response.status_code)\n",
    "print(response.json())"
   ]
  }
 ],
 "metadata": {
  "kernelspec": {
   "display_name": "learning-sessions-ai",
   "language": "python",
   "name": "python3"
  },
  "language_info": {
   "codemirror_mode": {
    "name": "ipython",
    "version": 3
   },
   "file_extension": ".py",
   "mimetype": "text/x-python",
   "name": "python",
   "nbconvert_exporter": "python",
   "pygments_lexer": "ipython3",
   "version": "3.13.2"
  }
 },
 "nbformat": 4,
 "nbformat_minor": 2
}
