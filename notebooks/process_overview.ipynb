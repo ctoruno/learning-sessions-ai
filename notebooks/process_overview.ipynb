{
 "cells": [
  {
   "cell_type": "code",
   "execution_count": 22,
   "metadata": {},
   "outputs": [],
   "source": [
    "import os\n",
    "from dotenv import load_dotenv\n",
    "import assemblyai as aai\n",
    "from openai import OpenAI"
   ]
  },
  {
   "cell_type": "code",
   "execution_count": null,
   "metadata": {},
   "outputs": [],
   "source": [
    "load_dotenv()\n",
    "aai.settings.api_key = os.getenv(\"aai_key\")"
   ]
  },
  {
   "cell_type": "code",
   "execution_count": 35,
   "metadata": {},
   "outputs": [],
   "source": [
    "target       = \"audio_session_4\"\n",
    "audio_file   = f\"../recordings/{target}.wav\"\n",
    "speech_model = aai.SpeechModel.best\n",
    "# speech_model = aai.SpeechModel.nano\n",
    "n_speakers   = 3\n",
    "language     = \"es\""
   ]
  },
  {
   "cell_type": "code",
   "execution_count": 15,
   "metadata": {},
   "outputs": [
    {
     "name": "stdout",
     "output_type": "stream",
     "text": [
      "Transcription was completed successfully!\n"
     ]
    }
   ],
   "source": [
    "config = aai.TranscriptionConfig(\n",
    "    speech_model      = speech_model,\n",
    "    speaker_labels    = True,\n",
    "    speakers_expected = n_speakers,\n",
    "    language_code     = language\n",
    ")\n",
    "\n",
    "transcriber = aai.Transcriber()\n",
    "transcript = transcriber.transcribe(\n",
    "  audio_file,\n",
    "  config = config\n",
    ")\n",
    "\n",
    "if transcript.status == aai.TranscriptStatus.completed:\n",
    "    print(f\"Transcription was completed successfully!\")\n",
    "    exit(1)\n",
    "if transcript.status == aai.TranscriptStatus.error:\n",
    "    print(f\"Transcription failed: {transcript.error}\")\n",
    "    exit(1)"
   ]
  },
  {
   "cell_type": "code",
   "execution_count": 24,
   "metadata": {},
   "outputs": [],
   "source": [
    "transcript_best = [f\"Speaker {utterance.speaker}: {utterance.text}\" for utterance in transcript.utterances]\n",
    "full_transcript = \"\\n\".join(transcript_best)"
   ]
  },
  {
   "cell_type": "code",
   "execution_count": 25,
   "metadata": {},
   "outputs": [],
   "source": [
    "system_prompt = \"\"\"\n",
    "Eres un experto consultor en educación, especializado en tutorías y métodos de enseñanza efectivos. Recibirás \n",
    "transcripciones de sesiones de tutoría grabadas entre un profesor y un estudiante de escuela primaria. Tu tarea es analizar \n",
    "detalladamente la manera en que el profesor explica los conceptos abordados durante cada sesión. Específicamente, debes:\n",
    "\n",
    "1. Evaluar las técnicas de explicación: Analizar la claridad, la estructura y la precisión de las explicaciones. \n",
    "Identificar los puntos fuertes y las áreas de mejora en el uso del lenguaje, ejemplos, analogías y estrategias de enseñanza.\n",
    "Determinar si el profesor adapta su explicación de forma adecuada al nivel de comprensión de un estudiante de escuela primaria.\n",
    "\n",
    "2. Evaluar el compromiso y la eficacia pedagógica: Valorar cómo el profesor involucra al estudiante y verifica su comprensión \n",
    "a lo largo de la sesión. Considerar si se emplean métodos interactivos o reflexivos que refuercen la asimilación de los conceptos.\n",
    "\n",
    "3. Proporcionar retroalimentación constructiva: Ofrecer sugerencias detalladas y accionables para mejorar los métodos de \n",
    "enseñanza del profesor. Resaltar las mejores prácticas, tales como simplificar conceptos complejos, usar ejemplos relevantes y claros, \n",
    "resumir los puntos clave y fomentar la participación activa del estudiante. Asegurarte de que la retroalimentación sea objetiva, alentadora \n",
    "y orientada al crecimiento profesional del profesor.\n",
    "\n",
    "4. Limitaciones y contexto: Basar tu análisis únicamente en el contenido proporcionado en la transcripción. Indicar, si es necesario, \n",
    "qué información adicional podría ayudar a realizar una evaluación más completa.\n",
    "\n",
    "Tu respuesta debe estar organizada, ser clara y exhaustiva, reflejando las mejores prácticas en pedagogía y en la retroalimentación \n",
    "constructiva.\n",
    "\"\"\""
   ]
  },
  {
   "cell_type": "code",
   "execution_count": 29,
   "metadata": {},
   "outputs": [],
   "source": [
    "context_prompt = f\"\"\"\n",
    "La siguiente es una transcripción de una sesión de tutoría entre un profesor y un estudiante de escuela primaria:\n",
    "\n",
    "[INICIO DE LA TRANSCRIPCIÓN]\n",
    "\n",
    "{full_transcript}\n",
    "\n",
    "[FIN DE LA TRANSCRIPCIÓN]\n",
    "\n",
    "La transcripción puede contener errores y omisiones. Por lo tanto, no te enfoques en errores de gramática o typos. Así mismo,\n",
    "la transcripción divide las intervenciones por interlocutor pero no especifica específicamente quién es el profesor y quién es el estudiante.\n",
    "Por lo tanto, deberás inferir quién es quién basado en el contenido de las intervenciones.\n",
    "\n",
    "Basado en la transcripción proveída, por favor evalúa las técnicas de explicación, el compromiso y la eficacia pedagógica del profesor\n",
    "y prepara un set estructurado de recomendaciones para mejorar sus métodos de enseñanza. Asegúrate de ser específico y detallado en tu análisis.\n",
    "Así mismo, asegurate de que tu retroalimentación sea objetiva, alentadora y orientada al crecimiento profesional del profesor. Resalta tanto\n",
    "aspectos positivos como negativos basados en tu evaluación y tu conocimiento de mejores prácticas pedagógicas.\n",
    "\n",
    "Para obtener una retroalimentación valiosa, toma en cuenta los siguientes aspectos claves:\n",
    "\n",
    "1. Estructura y organización de la tutoría:\n",
    "- ¿Hay una introducción clara del tema y objetivos de aprendizaje?\n",
    "- ¿La secuencia de contenidos y ejercicios sigue un orden lógico?\n",
    "- ¿Se hace un cierre efectivo que consolide el aprendizaje?\n",
    "\n",
    "2. Interacción profesor-estudiante:\n",
    "- ¿Qué tan frecuente es la participación del estudiante?\n",
    "- ¿Cómo responde el tutor a las preguntas y dudas?\n",
    "- ¿Se verifica la comprensión del estudiante regularmente?\n",
    "\n",
    "3. Técnicas pedagógicas:\n",
    "- ¿Qué estrategias usa para explicar conceptos complejos?\n",
    "- ¿Se emplean ejemplos relevantes y contextualizados?\n",
    "\n",
    "4. Manejo del tiempo:\n",
    "- ¿Se dedica suficiente tiempo a cada tema?\n",
    "- ¿Se ajusta el ritmo según la comprensión del estudiante?\n",
    "- ¿Se aprovecha efectivamente el tiempo disponible?\n",
    "\n",
    "5. Aspectos específicos a evaluar:\n",
    "- Claridad de las explicaciones\n",
    "- Capacidad para identificar y abordar confusiones\n",
    "- Habilidad para mantener el interés y motivación\n",
    "- Uso de preguntas guía y técnicas de andamiaje\n",
    "- Adaptabilidad a las necesidades del estudiante\n",
    "\n",
    "Por favor, proporciona una retroalimentación detallada y constructiva que ayude al profesor a mejorar su desempeño pedagógico en su \n",
    "próxima sesión. gracias.\n",
    "\"\"\""
   ]
  },
  {
   "cell_type": "code",
   "execution_count": 30,
   "metadata": {},
   "outputs": [],
   "source": [
    "history = [\n",
    "    {\"role\": \"system\", \"content\": system_prompt},\n",
    "    {\"role\": \"user\",   \"content\": context_prompt}\n",
    "]"
   ]
  },
  {
   "cell_type": "code",
   "execution_count": 56,
   "metadata": {},
   "outputs": [
    {
     "data": {
      "text/plain": [
       "'\\nEres un experto consultor en educación, especializado en tutorías y métodos de enseñanza efectivos. Recibirás \\ntranscripciones de sesiones de tutoría grabadas entre un profesor y un estudiante de escuela primaria. Tu tarea es analizar \\ndetalladamente la manera en que el profesor explica los conceptos abordados durante cada sesión. Específicamente, debes:\\n\\n1. Evaluar las técnicas de explicación: Analizar la claridad, la estructura y la precisión de las explicaciones. \\nIdentificar los puntos fuertes y las áreas de mejora en el uso del lenguaje, ejemplos, analogías y estrategias de enseñanza.\\nDeterminar si el profesor adapta su explicación de forma adecuada al nivel de comprensión de un estudiante de escuela primaria.\\n\\n2. Evaluar el compromiso y la eficacia pedagógica: Valorar cómo el profesor involucra al estudiante y verifica su comprensión \\na lo largo de la sesión. Considerar si se emplean métodos interactivos o reflexivos que refuercen la asimilación de los conceptos.\\n\\n3. Proporcionar retroalimentación constructiva: Ofrecer sugerencias detalladas y accionables para mejorar los métodos de \\nenseñanza del profesor. Resaltar las mejores prácticas, tales como simplificar conceptos complejos, usar ejemplos relevantes y claros, \\nresumir los puntos clave y fomentar la participación activa del estudiante. Asegurarte de que la retroalimentación sea objetiva, alentadora \\ny orientada al crecimiento profesional del profesor.\\n\\n4. Limitaciones y contexto: Basar tu análisis únicamente en el contenido proporcionado en la transcripción. Indicar, si es necesario, \\nqué información adicional podría ayudar a realizar una evaluación más completa.\\n\\nTu respuesta debe estar organizada, ser clara y exhaustiva, reflejando las mejores prácticas en pedagogía y en la retroalimentación \\nconstructiva.\\n'"
      ]
     },
     "execution_count": 56,
     "metadata": {},
     "output_type": "execute_result"
    }
   ],
   "source": [
    "system_prompt"
   ]
  },
  {
   "cell_type": "code",
   "execution_count": 32,
   "metadata": {},
   "outputs": [],
   "source": [
    "client = OpenAI()\n",
    "\n",
    "chat_completion = client.chat.completions.create(\n",
    "    messages = history,\n",
    "    model    = \"gpt-4o-2024-08-06\"\n",
    ")"
   ]
  },
  {
   "cell_type": "code",
   "execution_count": 40,
   "metadata": {},
   "outputs": [
    {
     "name": "stdout",
     "output_type": "stream",
     "text": [
      "**Análisis de la Sesión de Tutoría**\n",
      "\n",
      "**1. Evaluación de las Técnicas de Explicación:**\n",
      "\n",
      "- **Claridad y estructura de las explicaciones**: El profesor en la transcripción utiliza un lenguaje sencillo y directo, adecuado para estudiantes de escuela primaria. La estructura básica de cada ejercicio es clara: se presentan los números, se invitan a los estudiantes a identificar las centenas, decenas y unidades, y se confirma la respuesta. Este enfoque repetitivo ayuda a reforzar el concepto de valor posicional.\n",
      "\n",
      "- **Uso de ejemplos y analogías**: Se emplean ejemplos contextuales acertados, como la comparación de números con cajas y grupos (cajas de 100, cajitas de 10, y sueltos). Esto es efectivo para que el estudiante relacione conceptos matemáticos abstractos con situaciones cotidianas.\n",
      "\n",
      "- **Adaptación al nivel del estudiante**: La adaptación parece adecuada, utilizando un lenguaje simple y dinámico para mantener la atención y comprensión del estudiante. Sin embargo, sería beneficioso diversificar las explicaciones utilizando materiales visuales o más ejemplos interactivos.\n",
      "\n",
      "**2. Evaluación del Compromiso y la Eficacia Pedagógica:**\n",
      "\n",
      "- **Interacción y verificación de comprensión**: El profesor interacciona constantemente con el estudiante, verificando la comprensión después de cada pregunta y proporcionando retroalimentación inmediata, lo cual es excelente para el aprendizaje.\n",
      "\n",
      "- **Métodos interactivos y reflexivos**: Aunque la sesión es mayoritariamente de pregunta-respuesta, incluir actividades que fomenten la reflexión o la predicción podría enriquecer la comprensión del estudiante. Por ejemplo, pedirle al estudiante que explique por qué eligió ciertas respuestas antes de confirmar si son correctas.\n",
      "\n",
      "**3. Propuesta de Recomendaciones:**\n",
      "\n",
      "- **Mejorar la introducción y cierre del tema**: Se puede beneficiar la sesión con una introducción más explícita donde se comuniquen los objetivos de aprendizaje para que el estudiante tenga un marco de referencia claro. Igualmente, un cierre donde se resuman los conceptos aprendidos y se conecten con aplicaciones futuras.\n",
      "\n",
      "- **Incrementar la diversidad de técnicas pedagógicas**: Incluir métodos visuales como dibujos o el uso de objetos físicos para representar centenas, decenas, y unidades podría facilitar la comprensión. También se podrían usar historias o pequeños relatos relacionados para hacer la clase más atractiva.\n",
      "\n",
      "- **Fomentar la autoexplicación y reflexión**: Pedir al estudiante que explique los conceptos en sus propias palabras o que enseñe a un tercero (real o imaginario) le ayudaría a consolidar su comprensión de manera más profunda.\n",
      "\n",
      "- **Adecuación del Ritmo y Tiempo**: Asegurar que cada sección de la tutoría se planifique con suficiente tiempo para discusión y comprensión, adaptándose al ritmo del estudiante en todo momento.\n",
      "\n",
      "**4. Limitaciones y Contexto:**\n",
      "\n",
      "La transcripción nos ofrece una visión bastante clara de la dinámica de la sesión, pero tener acceso a la planificación de la tutoría, objetivos específicos, y materiales visuales que pudieran estar apoyando la enseñanza daría una visión más comprensiva. Además, conocer más sobre el progreso individual del estudiante ayudaría a personalizar aún más la enseñanza.\n",
      "\n",
      "La retroalimentación proporcionada busca fomentar un entorno de aprendizaje efectivo, motivador y adaptado a las necesidades de los estudiantes, que potencie tanto la comprensión conceptual como el disfrute del proceso educativo.\n"
     ]
    }
   ],
   "source": [
    "print(chat_completion.choices[0].message.content)"
   ]
  },
  {
   "cell_type": "code",
   "execution_count": 41,
   "metadata": {},
   "outputs": [],
   "source": [
    "with open(f\"../transcripts/{target}_transcript.txt\", \"w\") as f:\n",
    "    f.write(full_transcript)\n",
    "\n",
    "with open(f\"../transcripts/{target}_feedback.txt\", \"w\") as f:\n",
    "    f.write(chat_completion.choices[0].message.content)"
   ]
  }
 ],
 "metadata": {
  "kernelspec": {
   "display_name": "general",
   "language": "python",
   "name": "python3"
  },
  "language_info": {
   "codemirror_mode": {
    "name": "ipython",
    "version": 3
   },
   "file_extension": ".py",
   "mimetype": "text/x-python",
   "name": "python",
   "nbconvert_exporter": "python",
   "pygments_lexer": "ipython3",
   "version": "3.13.2"
  }
 },
 "nbformat": 4,
 "nbformat_minor": 2
}
