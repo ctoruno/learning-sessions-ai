{
 "cells": [
  {
   "cell_type": "code",
   "execution_count": null,
   "metadata": {},
   "outputs": [],
   "source": [
    "import os\n",
    "from google_auth_oauthlib.flow import InstalledAppFlow\n",
    "from googleapiclient.discovery import build\n",
    "from google.oauth2.credentials import Credentials\n",
    "from google.auth.transport.requests import Request"
   ]
  },
  {
   "cell_type": "code",
   "execution_count": 4,
   "metadata": {},
   "outputs": [],
   "source": [
    "# REFERENCE: https://github.com/BMMR/pythonBolt/blob/54428902c54fd8b01f7fc3e00a39145a72413da3/google_apis.py\n",
    "def create_service(client_secret_file, api_name, api_version, *scopes, prefix=''):\n",
    "    CLIENT_SECRET_FILE = client_secret_file\n",
    "    API_SERVICE_NAME = api_name\n",
    "    API_VERSION = api_version\n",
    "    SCOPES = [scope for scope in scopes[0]]\n",
    "\n",
    "    creds = None\n",
    "    working_dir = os.getcwd()\n",
    "    token_dir = 'token files'\n",
    "    token_file = f'token_{API_SERVICE_NAME}_{API_VERSION}{prefix}.json'\n",
    "\n",
    "    ### Check if token dir exists first, if not, create the folder\n",
    "    if not os.path.exists(os.path.join(working_dir, token_dir)):\n",
    "        os.mkdir(os.path.join(working_dir, token_dir))\n",
    "\n",
    "    if os.path.exists(os.path.join(working_dir, token_dir, token_file)):\n",
    "        creds = Credentials.from_authorized_user_file(os.path.join(working_dir, token_dir, token_file), SCOPES)\n",
    "\n",
    "    if not creds or not creds.valid:\n",
    "        if creds and creds.expired and creds.refresh_token:\n",
    "            creds.refresh(Request())\n",
    "        else:\n",
    "            flow = InstalledAppFlow.from_client_secrets_file(CLIENT_SECRET_FILE, SCOPES)\n",
    "            creds = flow.run_local_server(port=0)\n",
    "\n",
    "        with open(os.path.join(working_dir, token_dir, token_file), 'w') as token:\n",
    "            token.write(creds.to_json())\n",
    "\n",
    "    try:\n",
    "        service = build(API_SERVICE_NAME, API_VERSION, credentials=creds, static_discovery=False)\n",
    "        print(API_SERVICE_NAME, API_VERSION, 'service created successfully')\n",
    "        return service\n",
    "    except Exception as e:\n",
    "        print(e)\n",
    "        print(f'Failed to create service instance for {API_SERVICE_NAME}')\n",
    "        os.remove(os.path.join(working_dir, token_dir, token_file))\n",
    "        return None"
   ]
  },
  {
   "cell_type": "code",
   "execution_count": 2,
   "metadata": {},
   "outputs": [],
   "source": [
    "client_secret_file = 'client_secret.json'\n",
    "API_SERVICE_NAME = 'drive'\n",
    "API_VERSION = 'v3'\n",
    "SCOPES =['https://www.googleapis.com/auth/drive']"
   ]
  },
  {
   "cell_type": "code",
   "execution_count": 5,
   "metadata": {},
   "outputs": [
    {
     "name": "stdout",
     "output_type": "stream",
     "text": [
      "Please visit this URL to authorize this application: https://accounts.google.com/o/oauth2/auth?response_type=code&client_id=478639231328-tntgmc6q72bo1v5psvhsfd0dmd9sf9lp.apps.googleusercontent.com&redirect_uri=http%3A%2F%2Flocalhost%3A49687%2F&scope=https%3A%2F%2Fwww.googleapis.com%2Fauth%2Fdrive&state=JciP0MSq5kFKMscl2o4OiTienr0x1T&access_type=offline\n",
      "drive v3 service created successfully\n"
     ]
    }
   ],
   "source": [
    "service = create_service(client_secret_file, API_SERVICE_NAME, API_VERSION, SCOPES)"
   ]
  },
  {
   "cell_type": "code",
   "execution_count": 16,
   "metadata": {},
   "outputs": [],
   "source": [
    "folder_id = '1EtI0nZW1DenKKC4-P1WX8PQHfubRJBWE'\n",
    "query= f\"parents = '{folder_id}'\""
   ]
  },
  {
   "cell_type": "code",
   "execution_count": 26,
   "metadata": {},
   "outputs": [],
   "source": [
    "directories = ['recordings', 'transcripts', 'feedback']\n",
    "for f in directories:\n",
    "    file_metadata = {\n",
    "        'name': f,\n",
    "        'mimeType': 'application/vnd.google-apps.folder',\n",
    "        'parents': [f'{folder_id}']\n",
    "    }\n",
    "    service.files().create(body=file_metadata, supportsAllDrives=True, fields='id').execute()"
   ]
  },
  {
   "cell_type": "code",
   "execution_count": 14,
   "metadata": {},
   "outputs": [
    {
     "data": {
      "text/plain": [
       "{'kind': 'drive#fileList',\n",
       " 'incompleteSearch': False,\n",
       " 'files': [{'kind': 'drive#file',\n",
       "   'driveId': '0AGWDQtrixTcNUk9PVA',\n",
       "   'mimeType': 'application/vnd.google-apps.folder',\n",
       "   'id': '1knH9HXDnDYvTomDcVG6lFy2Bfp6qSRyu',\n",
       "   'name': 'Test',\n",
       "   'teamDriveId': '0AGWDQtrixTcNUk9PVA'}]}"
      ]
     },
     "execution_count": 14,
     "metadata": {},
     "output_type": "execute_result"
    }
   ],
   "source": [
    "service.files().list(supportsAllDrives=True, includeItemsFromAllDrives=True, q=query).execute()"
   ]
  }
 ],
 "metadata": {
  "kernelspec": {
   "display_name": "general",
   "language": "python",
   "name": "python3"
  },
  "language_info": {
   "codemirror_mode": {
    "name": "ipython",
    "version": 3
   },
   "file_extension": ".py",
   "mimetype": "text/x-python",
   "name": "python",
   "nbconvert_exporter": "python",
   "pygments_lexer": "ipython3",
   "version": "3.13.2"
  }
 },
 "nbformat": 4,
 "nbformat_minor": 2
}
