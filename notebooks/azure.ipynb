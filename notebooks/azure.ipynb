{
 "cells": [
  {
   "cell_type": "markdown",
   "metadata": {},
   "source": [
    "1. Install the following libraries:\n",
    "- msal\n",
    "- httpx\n",
    "\n",
    "2. Create Azure app:\n",
    "- Go to portal.azure.com\n",
    "- Nav to app registration\n",
    "- Registre your app\n",
    "- Running on web -> https://localhost.com:1992\n",
    "- Manage -> Certificates & Secrets -> New Client Secret\n",
    "\n",
    "3. Add Client Secret, App ID to your environment"
   ]
  },
  {
   "cell_type": "code",
   "execution_count": 7,
   "metadata": {},
   "outputs": [],
   "source": [
    "import os\n",
    "import msal\n",
    "import httpx\n",
    "import webbrowser\n",
    "from dotenv import load_dotenv"
   ]
  },
  {
   "cell_type": "code",
   "execution_count": 12,
   "metadata": {},
   "outputs": [],
   "source": [
    "def get_access_token(application_id, client_secret, scopes):\n",
    "    client = msal.ConfidentialClientApplication(\n",
    "        client_id = application_id,\n",
    "        client_credential = client_secret,\n",
    "        authority = \"https://login.microsoftonline.com/consumers/\"\n",
    "    )\n",
    "\n",
    "    refresh_token = None\n",
    "    if os.path.exists(\"refresh_token.txt\"):\n",
    "        with open(\"refresh_token.txt\", \"r\") as f:\n",
    "            refresh_token = f.read().strip()\n",
    "\n",
    "    if refresh_token:\n",
    "        token_response = client.acquire_token_by_refresh_token(refresh_token, scopes)\n",
    "    else:\n",
    "        auth_request_url = client.get_authorization_request_url(scopes)\n",
    "        webbrowser.open(auth_request_url)\n",
    "        auth_code = input(\"Enter the auth code: \")\n",
    "\n",
    "        if not auth_code:\n",
    "            raise ValueError(\"No auth code provided\")\n",
    "        \n",
    "        token_response = client.acquire_token_by_authorization_code(\n",
    "            code = auth_code, \n",
    "            scopes = scopes\n",
    "        )\n",
    "\n",
    "    if \"access_token\" in token_response:\n",
    "        if \"refresh_token\" in token_response:\n",
    "            with open(\"refresh_token.txt\", \"w\") as f:\n",
    "                f.write(token_response[\"refresh_token\"])\n",
    "        return token_response[\"access_token\"]\n",
    "    else:\n",
    "        raise Exception(\"No access token in response\")"
   ]
  },
  {
   "cell_type": "code",
   "execution_count": 15,
   "metadata": {},
   "outputs": [],
   "source": [
    "load_dotenv()\n",
    "application_id = os.getenv(\"azure_app_id\")\n",
    "client_secret = os.getenv(\"azure_client_secret\")\n",
    "scopes = [\"User.Read\", \"Mail.ReadWrite\", \"Mail.Send\"]\n",
    "\n",
    "MS_GRAPH_BASE_URL = \"https://graph.microsoft.com/v1.0\"\n",
    "\n",
    "access_token = get_access_token(application_id, client_secret, scopes)\n",
    "headers = {\n",
    "    \"Authorization\": \"Bearer \" + access_token\n",
    "}"
   ]
  },
  {
   "cell_type": "code",
   "execution_count": 21,
   "metadata": {},
   "outputs": [],
   "source": [
    "def draft_message(recipient, subject):\n",
    "    message = {\n",
    "        \"subject\": subject,\n",
    "        \"body\": {\n",
    "            \"contentType\": \"Text\",\n",
    "            \"content\": \"This is a test email using the Microsoft Graph API\"\n",
    "        },\n",
    "        \"toRecipients\": [\n",
    "            {\n",
    "                \"emailAddress\": {\n",
    "                    \"address\": recipient\n",
    "                }\n",
    "            }\n",
    "        ],\n",
    "        \"ccRecipients\": [\n",
    "            {\n",
    "                \"emailAddress\": {\n",
    "                    \"address\": \"carlos.toruno@gmail.com\"\n",
    "                }\n",
    "            }\n",
    "        ]\n",
    "    }\n",
    "    return message"
   ]
  },
  {
   "cell_type": "code",
   "execution_count": 22,
   "metadata": {},
   "outputs": [],
   "source": [
    "endpoint = f\"{MS_GRAPH_BASE_URL}/me/sendMail\""
   ]
  },
  {
   "cell_type": "code",
   "execution_count": null,
   "metadata": {},
   "outputs": [
    {
     "name": "stdout",
     "output_type": "stream",
     "text": [
      "Email sent successfully\n"
     ]
    }
   ],
   "source": [
    "message = {\n",
    "    \"message\": draft_message(\"dgranada@equilibriumbdc.com\", \"TESTING API\")\n",
    "}\n",
    "response = httpx.post(endpoint, headers=headers, json=message)\n",
    "if response.status_code != 202:\n",
    "    raise Exception(f\"Failed to send email: {response.text}\")\n",
    "else:\n",
    "    print(\"Email sent successfully\")"
   ]
  }
 ],
 "metadata": {
  "kernelspec": {
   "display_name": "general",
   "language": "python",
   "name": "python3"
  },
  "language_info": {
   "codemirror_mode": {
    "name": "ipython",
    "version": 3
   },
   "file_extension": ".py",
   "mimetype": "text/x-python",
   "name": "python",
   "nbconvert_exporter": "python",
   "pygments_lexer": "ipython3",
   "version": "3.13.2"
  }
 },
 "nbformat": 4,
 "nbformat_minor": 2
}
