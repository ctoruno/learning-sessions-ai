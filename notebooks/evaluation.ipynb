{
 "cells": [
  {
   "cell_type": "code",
   "execution_count": 1,
   "metadata": {},
   "outputs": [],
   "source": [
    "from openai import OpenAI"
   ]
  },
  {
   "cell_type": "code",
   "execution_count": 2,
   "metadata": {},
   "outputs": [],
   "source": [
    "system_prompt = \"\"\"\n",
    "Eres un experto consultor en educación, especializado en tutorías y métodos de enseñanza efectivos. Recibirás \n",
    "transcripciones de sesiones de tutoría grabadas entre un profesor y un estudiante de escuela primaria. Tu tarea es analizar \n",
    "detalladamente la manera en que el profesor explica los conceptos abordados durante cada sesión. Específicamente, debes:\n",
    "\n",
    "1. Evaluar las técnicas de explicación: Analizar la claridad, la estructura y la precisión de las explicaciones. \n",
    "Identificar los puntos fuertes y las áreas de mejora en el uso del lenguaje, ejemplos, analogías y estrategias de enseñanza.\n",
    "Determinar si el profesor adapta su explicación de forma adecuada al nivel de comprensión de un estudiante de escuela primaria.\n",
    "\n",
    "2. Evaluar el compromiso y la eficacia pedagógica: Valorar cómo el profesor involucra al estudiante y verifica su comprensión \n",
    "a lo largo de la sesión. Considerar si se emplean métodos interactivos o reflexivos que refuercen la asimilación de los conceptos.\n",
    "\n",
    "3. Proporcionar retroalimentación constructiva: Ofrecer sugerencias detalladas y accionables para mejorar los métodos de \n",
    "enseñanza del profesor. Resaltar las mejores prácticas, tales como simplificar conceptos complejos, usar ejemplos relevantes y claros, \n",
    "resumir los puntos clave y fomentar la participación activa del estudiante. Asegurarte de que la retroalimentación sea objetiva, alentadora \n",
    "y orientada al crecimiento profesional del profesor.\n",
    "\n",
    "4. Limitaciones y contexto: Basar tu análisis únicamente en el contenido proporcionado en la transcripción. Indicar, si es necesario, \n",
    "qué información adicional podría ayudar a realizar una evaluación más completa.\n",
    "\n",
    "Tu respuesta debe estar organizada, ser clara y exhaustiva, reflejando las mejores prácticas en pedagogía y en la retroalimentación \n",
    "constructiva.\n",
    "\"\"\""
   ]
  },
  {
   "cell_type": "code",
   "execution_count": 6,
   "metadata": {},
   "outputs": [],
   "source": [
    "with open(\"../transcripts/transcript_session_test01.txt\", \"r\") as f:\n",
    "    full_transcript = f.read()\n",
    "\n",
    "context_prompt = f\"\"\"\n",
    "La siguiente es una transcripción de una sesión de tutoría entre un profesor y un estudiante de escuela primaria:\n",
    "{full_transcript}\n",
    "\n",
    "[FIN DE LA TRANSCRIPCIÓN]\n",
    "\n",
    "Basado en la transcripción proveída, por favor evalúa las técnicas de explicación, el compromiso y la eficacia pedagógica del profesor\n",
    "y prepara un set estructurado de recomendaciones para mejorar sus métodos de enseñanza. Asegúrate de ser específico y detallado en tu análisis.\n",
    "Así mismo, asegurate de que tu retroalimentación sea objetiva, alentadora y orientada al crecimiento profesional del profesor. Resalta tanto\n",
    "aspectos positivos como negativos basados en tu evaluación y tu conocimiento de mejores prácticas pedagógicas.\n",
    "\"\"\""
   ]
  },
  {
   "cell_type": "code",
   "execution_count": 9,
   "metadata": {},
   "outputs": [],
   "source": [
    "history = [\n",
    "    {\"role\": \"system\", \"content\": system_prompt},\n",
    "    {\"role\": \"user\",   \"content\": context_prompt}\n",
    "]"
   ]
  },
  {
   "cell_type": "code",
   "execution_count": 12,
   "metadata": {},
   "outputs": [],
   "source": [
    "client = OpenAI(\n",
    "    base_url = \"http://localhost:1234/v1\",\n",
    "    api_key  = \"sk-1234\"\n",
    ")\n",
    "\n",
    "chat_completion = client.chat.completions.create(\n",
    "    messages = history,\n",
    "    model    = \"deepseek-r1-distill-qwen-32b\"\n",
    ")"
   ]
  },
  {
   "cell_type": "code",
   "execution_count": 17,
   "metadata": {},
   "outputs": [
    {
     "name": "stdout",
     "output_type": "stream",
     "text": [
      "<think>\n",
      "Bueno, voy a intentar analizar la sesión de tutoría entre el profesor y Ana. Primero, veo que el profesor comienza con un saludo amable y trata de despejar las dudas iniciales de Ana sobre el Teorema de Pitágoras. Luego, explica conceptos básicos como los triángulos rectángulos, catetos e hipotenusa, usando ejemplos prácticos.\n",
      "\n",
      "El profesor usa colores para distinguir los lados del triángulo, lo que parece ayudar a Ana a visualizar mejor. También introduce aplicaciones reales del teorema, como en construcción y diseño de videojuegos, lo cual hace más interesante el tema. Además, explica la historia de Pitágoras, lo que da contexto histórico al concepto.\n",
      "\n",
      "Durante la sesión, el profesor guía a Ana para resolver problemas paso a paso, permitiéndole participar activamente. También introduce ternas pitagóricas y habla sobre triángulos semejantes, expandiendo el conocimiento de Ana más allá del teorema básico.\n",
      "\n",
      "Sin embargo, me pregunto si el profesor podría haber utilizado más actividades interactivas o herramientas visuales adicionales para refuerzar los conceptos. También pienso que quizás pudo profundizar un poco más en por qué la hipotenusa siempre es el lado más largo, para ayudar a Ana a entender mejor la geometría subyacente.\n",
      "\n",
      "En resumen, el profesor hace un trabajo excelente explicando el Teorema de Pitágoras de manera clara y aplicada, pero podría incorporar más actividades prácticas y explorar conceptos relacionados en mayor profundidad para enriquecer aún más la sesión.\n",
      "</think>\n",
      "\n",
      "### Evaluación del Profesoraje:\n",
      "\n",
      "El profesor demostró una excelente habilidad en explicar el Teorema de Pitágoras de manera accesible y aplicada, adaptando su enseñanza al nivel de comprensión de Ana. Utilizó estrategias efectivas como ejemplos prácticos, actividades interactivas y herramientas visuales para reforzar los conceptos.\n",
      "\n",
      "#### Técnicas de Explicación:\n",
      "- **Claridad y Estructura:** El profesor comenzó con conceptos básicos y progresó gradualmente hacia temas más complejos, manteniendo una estructura lógica.\n",
      "- **Ejemplos Relevantes:** Incluyó aplicaciones reales, como en construcción y videojuegos, lo que hizo el tema más interesante.\n",
      "- **Colores y Visualización:** Usó colores para distinguir los lados del triángulo, facilitando la comprensión visual.\n",
      "\n",
      "#### Compromiso Pedagógico:\n",
      "- **Participación Activa:** Guió a Ana en resolver problemas paso a paso, permitiéndole participar activamente.\n",
      "- **Contexto Histórico y Cultural:** Explicó la historia de Pitágoras, proporcionando contexto que enriquece el entendimiento.\n",
      "\n",
      "#### Areas para Mejorar:\n",
      "- **Más Actividades Interactivas:** Incorporar actividades prácticas adicionales podría reforzar aún más los conceptos.\n",
      "- **Profundización Conceptual:** Explicar por qué la hipotenusa es siempre el lado más largo en un triángulo rectángulo.\n",
      "\n",
      "### Recomendaciones:\n",
      "\n",
      "1. **Incorporar Más Actividades Prácticas:**\n",
      "   - Uso de herramientas digitales interactivas para visualizar y manipular triángulos.\n",
      "   - Proyectos prácticos, como medir espacios en casa o en el jardín usando el teorema.\n",
      "\n",
      "2. **Explorar Conceptos Relacionados en Profundidad:**\n",
      "   - Explicar por qué la hipotenusa es siempre el lado más largo.\n",
      "   - Introducir conceptos de trigonometría básica para complementar el teorema.\n",
      "\n",
      "3. **Fomentar la Creatividad y aplicación Real:**\n",
      "   - Desafíos creativos, como diseñar su propio problema aplicado usando el teorema.\n",
      "   - Discusiones sobre cómo otros científicos o inventores han utilizado este teorema en sus trabajos.\n",
      "\n",
      "### Conclusión:\n",
      "\n",
      "El profesor hizo un excelente trabajo al explicar el Teorema de Pitágoras de manera clara y aplicada. Al incorporar las recomendaciones, puede enriquecer aún más la experiencia educativa, promoviendo una comprensión más profunda y una mayor participación del estudiante.\n"
     ]
    }
   ],
   "source": [
    "print(chat_completion.choices[0].message.content)"
   ]
  }
 ],
 "metadata": {
  "kernelspec": {
   "display_name": "general",
   "language": "python",
   "name": "python3"
  },
  "language_info": {
   "codemirror_mode": {
    "name": "ipython",
    "version": 3
   },
   "file_extension": ".py",
   "mimetype": "text/x-python",
   "name": "python",
   "nbconvert_exporter": "python",
   "pygments_lexer": "ipython3",
   "version": "3.13.2"
  }
 },
 "nbformat": 4,
 "nbformat_minor": 2
}
