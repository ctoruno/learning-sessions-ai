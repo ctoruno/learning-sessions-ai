{
 "cells": [
  {
   "cell_type": "code",
   "execution_count": 1,
   "metadata": {},
   "outputs": [],
   "source": [
    "import os\n",
    "from pysurveycto import SurveyCTOObject\n",
    "from dotenv import load_dotenv"
   ]
  },
  {
   "cell_type": "code",
   "execution_count": 2,
   "metadata": {},
   "outputs": [],
   "source": [
    "load_dotenv()\n",
    "scto = SurveyCTOObject(\n",
    "    server_name = os.getenv(\"SCTO_server\"), \n",
    "    username    = os.getenv(\"SCTO_user\"), \n",
    "    password    = os.getenv(\"SCTO_password\")\n",
    ")"
   ]
  },
  {
   "cell_type": "code",
   "execution_count": 3,
   "metadata": {},
   "outputs": [],
   "source": [
    "data = scto.get_form_data(\n",
    "    form_id     = \"llamadas\", \n",
    "    format      = \"csv\"\n",
    ")"
   ]
  },
  {
   "cell_type": "code",
   "execution_count": 4,
   "metadata": {},
   "outputs": [],
   "source": [
    "import pandas as pd\n",
    "from io import StringIO\n",
    "\n",
    "df = pd.read_csv(StringIO(data))"
   ]
  },
  {
   "cell_type": "code",
   "execution_count": 5,
   "metadata": {},
   "outputs": [
    {
     "data": {
      "text/plain": [
       "'https://tutoriastel.surveycto.com/view/submission-attachment/1739502374447.m4a?blobKey=2'"
      ]
     },
     "execution_count": 5,
     "metadata": {},
     "output_type": "execute_result"
    }
   ],
   "source": [
    "url = df[\"llamada\"].iloc[0]\n",
    "url"
   ]
  },
  {
   "cell_type": "code",
   "execution_count": 6,
   "metadata": {},
   "outputs": [],
   "source": [
    "audio_bytes = scto.get_attachment(url)"
   ]
  },
  {
   "cell_type": "code",
   "execution_count": 7,
   "metadata": {},
   "outputs": [
    {
     "name": "stderr",
     "output_type": "stream",
     "text": [
      "ffplay version 7.1 Copyright (c) 2003-2024 the FFmpeg developers\n",
      "  built with Apple clang version 16.0.0 (clang-1600.0.26.4)\n",
      "  configuration: --prefix=/opt/homebrew/Cellar/ffmpeg/7.1_4 --enable-shared --enable-pthreads --enable-version3 --cc=clang --host-cflags= --host-ldflags='-Wl,-ld_classic' --enable-ffplay --enable-gnutls --enable-gpl --enable-libaom --enable-libaribb24 --enable-libbluray --enable-libdav1d --enable-libharfbuzz --enable-libjxl --enable-libmp3lame --enable-libopus --enable-librav1e --enable-librist --enable-librubberband --enable-libsnappy --enable-libsrt --enable-libssh --enable-libsvtav1 --enable-libtesseract --enable-libtheora --enable-libvidstab --enable-libvmaf --enable-libvorbis --enable-libvpx --enable-libwebp --enable-libx264 --enable-libx265 --enable-libxml2 --enable-libxvid --enable-lzma --enable-libfontconfig --enable-libfreetype --enable-frei0r --enable-libass --enable-libopencore-amrnb --enable-libopencore-amrwb --enable-libopenjpeg --enable-libspeex --enable-libsoxr --enable-libzmq --enable-libzimg --disable-libjack --disable-indev=jack --enable-videotoolbox --enable-audiotoolbox --enable-neon\n",
      "  libavutil      59. 39.100 / 59. 39.100\n",
      "  libavcodec     61. 19.100 / 61. 19.100\n",
      "  libavformat    61.  7.100 / 61.  7.100\n",
      "  libavdevice    61.  3.100 / 61.  3.100\n",
      "  libavfilter    10.  4.100 / 10.  4.100\n",
      "  libswscale      8.  3.100 /  8.  3.100\n",
      "  libswresample   5.  3.100 /  5.  3.100\n",
      "  libpostproc    58.  3.100 / 58.  3.100\n",
      "Input #0, mov,mp4,m4a,3gp,3g2,mj2, from '/var/folders/7x/fdwfv0y13yz0y3sjb4mwznqm0000gp/T/tmpeetzo7k2.mp3':\n",
      "  Metadata:\n",
      "    major_brand     : 3gp4\n",
      "    minor_version   : 0\n",
      "    compatible_brands: isom3gp4\n",
      "    creation_time   : 2025-02-13T21:16:06.000000Z\n",
      "    com.android.version: 14\n",
      "  Duration: 00:14:51.51, start: 0.000000, bitrate: 129 kb/s\n",
      "  Stream #0:0[0x1](eng): Audio: aac (LC) (mp4a / 0x6134706D), 48000 Hz, mono, fltp, 128 kb/s (default)\n",
      "      Metadata:\n",
      "        creation_time   : 2025-02-13T21:16:06.000000Z\n",
      "        handler_name    : SoundHandle\n",
      "        vendor_id       : [0][0][0][0]\n",
      "   8.43 M-A:  0.000 fd=   0 aq=   16KB vq=    0KB sq=    0B \r"
     ]
    },
    {
     "data": {
      "text/plain": [
       "31488"
      ]
     },
     "execution_count": 7,
     "metadata": {},
     "output_type": "execute_result"
    }
   ],
   "source": [
    "import ffmpeg\n",
    "import tempfile\n",
    "\n",
    "# Save bytes to a temp file\n",
    "with tempfile.NamedTemporaryFile(delete=False, suffix=\".mp3\") as temp_audio:\n",
    "    temp_audio.write(audio_bytes)\n",
    "    temp_audio_path = temp_audio.name\n",
    "\n",
    "# Play audio using ffplay (part of ffmpeg)\n",
    "import os\n",
    "os.system(f'ffplay -nodisp -autoexit {temp_audio_path}')\n"
   ]
  },
  {
   "cell_type": "code",
   "execution_count": 9,
   "metadata": {},
   "outputs": [],
   "source": [
    "import assemblyai as aai\n",
    "\n",
    "load_dotenv()\n",
    "aai.settings.api_key = os.getenv(\"aai_key\")\n",
    "\n",
    "target       = \"audio_session_4\"\n",
    "audio_file   = f\"../recordings/{target}.wav\"\n",
    "# speech_model = aai.SpeechModel.best\n",
    "speech_model = aai.SpeechModel.nano\n",
    "n_speakers   = 3\n",
    "language     = \"es\""
   ]
  },
  {
   "cell_type": "code",
   "execution_count": 10,
   "metadata": {},
   "outputs": [],
   "source": [
    "config = aai.TranscriptionConfig(\n",
    "    speech_model      = speech_model,\n",
    "    speaker_labels    = True,\n",
    "    speakers_expected = n_speakers,\n",
    "    language_code     = language\n",
    ")\n",
    "\n",
    "transcriber = aai.Transcriber()\n",
    "transcript = transcriber.transcribe(\n",
    "  temp_audio_path,\n",
    "  config = config\n",
    ")"
   ]
  },
  {
   "cell_type": "code",
   "execution_count": 11,
   "metadata": {},
   "outputs": [],
   "source": [
    "transcript_best = [f\"Speaker {utterance.speaker}: {utterance.text}\" for utterance in transcript.utterances]\n",
    "full_transcript = \"\\n\".join(transcript_best)"
   ]
  },
  {
   "cell_type": "code",
   "execution_count": 12,
   "metadata": {},
   "outputs": [
    {
     "data": {
      "text/plain": [
       "'Speaker A: ¿Hola, qué tal profa much bien? Sí, ahora sí. ¿Qué tal? ¿Cómo estás, señor Luis?\\nSpeaker B: Muy bien, acá ya todoce conoc cuadenito.\\nSpeaker A: Me alegra. Le quiero comunicar que esta llamada va a ser grabada para que esté en conocimiento y también para que pueda colocar en altavoz su teléfono.\\nSpeaker B: Muy ahora voy a colocar está bien, porque noi ya me comentó eso también. Entonces vamos a avanzar.\\nSpeaker A: Está bieno cualquier cosita, si tenemos problema.\\nSpeaker B: Con la señal para intentar llamar a la otra el niño, pero si nos escucha bien, entonces podemos avanzar con este.\\nSpeaker A: ¿Ok? Está bien. Bueno, está por ahí Benjam Benjamín. Hola. Hola, Benjamín. ¿Cómo estás?\\nSpeaker C: ¿Bien?\\nSpeaker A: Qué suerte. ¿Ya estás preparado? ¿Estás listo? ¿Tens tu cuadernito? Qué suerte. Me alegra. ¿Bueno, decimos un poquito primero cómo pasó tu semana? ¿Qué tal? ¿Estuviste practicando? ¿Estuviste practicando? Qué suerte. ¿Bueno, yo entonces te voy a dictar unos numeritos para que anotes en tu cuaderno, te parecen? Ok. Bueno, vas a escribir el número 127. 127. Ya está. Ok. ¿Bueno, otro número? 238. 238. Vas a dejar un espacio pequeñito y abajo otro 326. 326. Bueno, otro numerito 506 quinientosis. ¿Y por último? 485. 485. Ya está. Bueno, lo que vamos a hacer con estos números, vos me vas a ir diciendo, yo te voy a nombrar los números y vamos a decir a qué valor le pertenece. ¿Le corresponde, por ejemplo, el primero 127. Cuál es la cifra de la centena? ¿Cuál es el número, la cifra que corresponde a la centena? Muy bien. El un. ¿Y cuál es la cifra que corresponde a la decena? Muy bien. ¿Y la cifra de la unidad? Excelente. Benjaín. ¿Bueno, en el siguiente número que es 238, cuál es el número, la cifra que corresponde a la centena? El dos. Muy bien. ¿Y la cifra que corresponde a la decena?\\nSpeaker C: En qué caso caso sería el número el númerho.\\nSpeaker A: Sí. El tres. Exactamente. ¿Y el número de la unidad cuál sería?\\nSpeaker C: Oc.\\nSpeaker A: Muy bien. Excelente. ¿Entonces, con el siguiente número 326, cuál es la cifra de la centena en este número? En entonces muy bien. Exactamente. ¿Y la cifra de la decena?\\nSpeaker C: El ex ser.\\nSpeaker A: Muy bien. ¿Y la cifra de la unidad? Excelente. Muy bien. ¿Entonces tenemos después el número 506. Cuál es el número, la cifra de la centena?\\nSpeaker C: El cinco.\\nSpeaker A: Muy bien. ¿Y la cifra de la decena? Muy bien. El cero. ¿Y la cifra de la unidad? Excelente. ¿Y nuestro último numerito que es el 485. Cuál es la cifra de la centena?\\nSpeaker C: En cuatro.\\nSpeaker A: Muy bien. ¿Y la cifra de la decena? Excelente. ¿Y la cifra de la unidad?\\nSpeaker C: El SIE.\\nSpeaker A: 485. Pero sí, el cinco. ¿Pero está bien? Sí, no te preocupes. ¿Bueno, qué te pareció hasta ahí? ¿Fácil? ¿Difícil? Fácil. Qué bueno. Bueno, ahora Benjamín, yo te voy a leer un problemita y vos solamente vas a anotar el número. Saque los números. Yo te voy a leer dos veces, vos a escuchar bien atentamente, y vas a escribir en tu cuaderno solamente los números. ¿Sí? ¿Estamos bien? Bueno. Doña Justina lleva a la feria del pueblo 143 heladitos ya embalados en cajas de 100, cajitas de 10 y otros sueldos. ¿Cuántas cajas de 100 tiene? ¿Cuántas cajitas de 10 y cuántos heladititos son? Se te repito, dice Doña Justina lleva a la feria del pueblo 143 heladitos ya embalados en cajas de 100, cajitas de 10 y otros sueltos. ¿Cuántas cajas de 100 tienes? ¿Cuántas cajitas de 10 y cuántos heladitos sueltos? ¿Entonces en tu cuaderno vas a poner el número 143. Bueno, entonces me vas a decir cuántas cajas de 100 tienesnto?\\nSpeaker C: 40. Y.\\nSpeaker A: Si tiene 143 laditos, pero están en caja, está dividido, separado y en cajas. ¿Entonces lo que dice la pregunta dice cuántas cajas de 100 tienes? Nosotros vamos a mirar nuestro número. ¿Si pregunta cuánta caja de 100? Quiere decir la centena. ¿Cuánto? ¿Cuántas cajita? Muy bien. Entonces quiere decir que una caja de 100 helados. Ahora pregunta cuántas cajitas de 10.\\nSpeaker C: Cuat.\\nSpeaker A: Muy bien, porque le corresponde a la decena. ¿En este caso sería 40, verdad? ¿Y cuántos heladitos sueltos tiene? Muy bien, los heladitos sueltos corresponden a las unidades. Siempre, siempre los elementos sueltos son unidades. Las cajitas de 10 son las decenas, y las cajas de 100 son las centenas. ¿Qué tal hasta ahí? ¿Bien? Bueno, entonces vamos a hacer otro problema porque es muy parecido al al anterior, porque son muy guapos. Entonces, el primer ejercicio de esta ronda Javier juega con monedas y tiene 257 guaraní. ¿En monedas, cuántas monedas de 100 tiene? ¿Cuántas monedas de 10 y cuántos cuántas monedas sueldas tiene? Se repito, y Javier juega con monedas y tiene 257 guaraníes. ¿En monedas, cuántas monedas de 100 tiene? ¿Cuántas monedas de 10 y cuántas moneditas sueltas? El número es 257. Va a escribir en tu número, en tu cuaderno, el número 257. Ya está. ¿Entonces cuántas monedas de 100? Muy bien. ¿Tiene dos monedas de 100, que serían 200, verdad? ¿Cuántas monedas de 10 tiene?\\nSpeaker C: Cinco.\\nSpeaker A: Excelente. Que corresponde entonces a las decenas. Tiene cinco decenas. ¿Entonces, y cuántos guaraníes sueltos tienete? Siete. Siete monedas de un guaraní sueltitos. Entonces ahí forma entonces 257. Y por último, para terminar nuestra jornada hoy, lo mismo, te das leer otra vez, dos veces un problemita, y vos vas a escribir como siempre, solamente los números. Dice, en la ferretería hay 356 focos de luz blanca para venderlos y empaquetan en grupos de 100, grupos de 10 y algunos dejan sueltos algunos focos seltidos. ¿Entonces dice cuántos grupos de 100 hay, cuántos grupos de 10 y cuántos focos sueltos? Te repito, en la ferretería hay 356 focos de luz blanca que para venderlos se empaquetan en grupos de 100, de 10 y algunos dejan sueltos. ¿Cuántos grupos de 100 hay? ¿Cuántos grupos de 10 y cuántos focos sueltos? Y el número es 356.\\nSpeaker C: Treci 50.\\nSpeaker A: Ya está, ya escribiste. Genial. ¿Entonces ahora Mejamin dice cuántos grupos de 100 focos de luz hay? Muy bien, porque equivalen entonces a 300, porque estamos en las centenaera. Muy bien. ¿Cuántos grupos de 10 hay?\\nSpeaker C: Cinco.\\nSpeaker A: Excelente. Presmos la Ds. ¿Y cuántos focos sueltos tiene?\\nSpeaker C: Seis.\\nSpeaker A: Seis. Exactamente. ¿Porque porque los focos sueltos son las unidades, verdad? Bueno, entonces cuando nosotros hablamos de paquete de 100 nos estamos refiriendo a las centenas. Cuando nos referimos a bolsas o paquetes de 10, son decenas y los elementos sueltos son las unidades. Qué bueno. ¿Decime, cómo te sentiste en la clase de hoy? Bien, bien. ¿Te gustó?\\nSpeaker C: ¿Estoy respondoio qué? Esto hablando en dón estamos.\\nSpeaker A: Ay, qué bueno, qué bueno. Me alegra mucho. ¿Entonces te gusta mucho la matemáticas?\\nSpeaker C: Sí, me encanta.\\nSpeaker A: Sí, la matemática es muy importante para todo. Después en todo lo que vas a hacer de la escuela, en el día a día, te va a servir muchísimo.\\nSpeaker C: ¿Quién más? ¿Bien, es igual a.\\nSpeaker A: A cuánto? Dos a 200. Muy bien. Bueno, Benja, también te agradezco mucho que hayas prestado atención, hiciste un excelente trabajo el día de hoy y bueno, vamos a estar en contacto la próxima semana en el mismo horario. ¿Está tu papá por ahí?\\nSpeaker C: Sí.\\nSpeaker A: ¿Qué tal señor? ¿Cómo le va? Qué suerte. ¿Le gustó entonces la tutoría? Bueno, sale un poquito con interferencia, de todas maneras vamos a estar en contacto entonces la próxima semana en este mismo horarioper.\\nSpeaker B: Bien, vamos.\\nSpeaker A: Muchísimas gracias. Muchas gracias a usted. Hasta luego. Chao. Benjammin.'"
      ]
     },
     "execution_count": 12,
     "metadata": {},
     "output_type": "execute_result"
    }
   ],
   "source": [
    "full_transcript"
   ]
  }
 ],
 "metadata": {
  "kernelspec": {
   "display_name": "general",
   "language": "python",
   "name": "python3"
  },
  "language_info": {
   "codemirror_mode": {
    "name": "ipython",
    "version": 3
   },
   "file_extension": ".py",
   "mimetype": "text/x-python",
   "name": "python",
   "nbconvert_exporter": "python",
   "pygments_lexer": "ipython3",
   "version": "3.13.2"
  }
 },
 "nbformat": 4,
 "nbformat_minor": 2
}
