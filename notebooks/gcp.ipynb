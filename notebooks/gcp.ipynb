{
 "cells": [
  {
   "cell_type": "markdown",
   "metadata": {},
   "source": [
    "1. Intall libraries: pip3 install --upgrade google-api-python-client google-auth-httplib2 google-auth-oauthlib\n",
    "2. Set up your Google Cloud Environment:\n",
    "    - Go to: console.cloud.google.com\n",
    "    - Create a new project\n",
    "    - Create a new API: Go to APIs & Services -> Enable APIs & Services\n",
    "    - Search for GMAIL API and enable it\n",
    "    - Enable OAUTH: Go to APIs & Services -> OAuth consent screen\n",
    "        - Start a new channel\n",
    "        - Name your app\n",
    "        - Select EXTERNAL \n",
    "        - Create the OAuth\n",
    "        - Go to PUBLIC (left panel) and add test users\n",
    "    - Create credentials:\n",
    "        - New Credential -> OAUTH client ID\n",
    "        - App type: Desktop\n",
    "        - Name your app and create it\n",
    "        - Once your app credentials are created, DOWNLOAD the JSON file\n"
   ]
  },
  {
   "cell_type": "code",
   "execution_count": 3,
   "metadata": {},
   "outputs": [],
   "source": [
    "import os\n",
    "from google_auth_oauthlib.flow import InstalledAppFlow\n",
    "from googleapiclient.discovery import build\n",
    "from google.oauth2.credentials import Credentials\n",
    "from google.auth.transport.requests import Request"
   ]
  },
  {
   "cell_type": "code",
   "execution_count": 5,
   "metadata": {},
   "outputs": [],
   "source": [
    "# REFERENCE: https://github.com/BMMR/pythonBolt/blob/54428902c54fd8b01f7fc3e00a39145a72413da3/google_apis.py\n",
    "def create_service(client_secret_file, api_name, api_version, *scopes, prefix=''):\n",
    "    CLIENT_SECRET_FILE = client_secret_file\n",
    "    API_SERVICE_NAME = api_name\n",
    "    API_VERSION = api_version\n",
    "    SCOPES = [scope for scope in scopes[0]]\n",
    "\n",
    "    creds = None\n",
    "    working_dir = os.getcwd()\n",
    "    token_dir = 'token files'\n",
    "    token_file = f'token_{API_SERVICE_NAME}_{API_VERSION}{prefix}.json'\n",
    "\n",
    "    ### Check if token dir exists first, if not, create the folder\n",
    "    if not os.path.exists(os.path.join(working_dir, token_dir)):\n",
    "        os.mkdir(os.path.join(working_dir, token_dir))\n",
    "\n",
    "    if os.path.exists(os.path.join(working_dir, token_dir, token_file)):\n",
    "        creds = Credentials.from_authorized_user_file(os.path.join(working_dir, token_dir, token_file), SCOPES)\n",
    "\n",
    "    if not creds or not creds.valid:\n",
    "        if creds and creds.expired and creds.refresh_token:\n",
    "            creds.refresh(Request())\n",
    "        else:\n",
    "            flow = InstalledAppFlow.from_client_secrets_file(CLIENT_SECRET_FILE, SCOPES)\n",
    "            creds = flow.run_local_server(port=0)\n",
    "\n",
    "        with open(os.path.join(working_dir, token_dir, token_file), 'w') as token:\n",
    "            token.write(creds.to_json())\n",
    "\n",
    "    try:\n",
    "        service = build(API_SERVICE_NAME, API_VERSION, credentials=creds, static_discovery=False)\n",
    "        print(API_SERVICE_NAME, API_VERSION, 'service created successfully')\n",
    "        return service\n",
    "    except Exception as e:\n",
    "        print(e)\n",
    "        print(f'Failed to create service instance for {API_SERVICE_NAME}')\n",
    "        os.remove(os.path.join(working_dir, token_dir, token_file))\n",
    "        return None"
   ]
  },
  {
   "cell_type": "code",
   "execution_count": 6,
   "metadata": {},
   "outputs": [
    {
     "name": "stdout",
     "output_type": "stream",
     "text": [
      "Please visit this URL to authorize this application: https://accounts.google.com/o/oauth2/auth?response_type=code&client_id=478639231328-tntgmc6q72bo1v5psvhsfd0dmd9sf9lp.apps.googleusercontent.com&redirect_uri=http%3A%2F%2Flocalhost%3A50932%2F&scope=https%3A%2F%2Fmail.google.com%2F&state=T8jAXnjnM3rTIedMCUoQScpZHD7FaF&access_type=offline\n",
      "gmail v1 service created successfully\n"
     ]
    }
   ],
   "source": [
    "client_secret_file = 'client_secret.json'\n",
    "API_SERVICE_NAME = 'gmail'\n",
    "API_VERSION = 'v1'\n",
    "SCOPES =['https://mail.google.com/']\n",
    "service = create_service(client_secret_file, API_SERVICE_NAME, API_VERSION, SCOPES)"
   ]
  },
  {
   "cell_type": "code",
   "execution_count": 7,
   "metadata": {},
   "outputs": [],
   "source": [
    "import os\n",
    "import base64\n",
    "from email.mime.text import MIMEText\n",
    "from email.mime.multipart import MIMEMultipart\n",
    "from email.mime.base import MIMEBase\n",
    "from email import encoders"
   ]
  },
  {
   "cell_type": "code",
   "execution_count": 10,
   "metadata": {},
   "outputs": [],
   "source": [
    "def send_email(service, to, subject, body, body_type='plain'):\n",
    "    message = MIMEMultipart()\n",
    "    message['to'] = to\n",
    "    message['cc'] = 'ctoruno@worldjusticeproject.org'\n",
    "    message['subject'] = subject\n",
    "\n",
    "    if body_type.lower() not in ['plain', 'html']:\n",
    "        raise ValueError('body_type must be either \"plain\" or \"html\"')\n",
    "\n",
    "    message.attach(MIMEText(body, body_type.lower()))\n",
    "\n",
    "    raw_message = base64.urlsafe_b64encode(message.as_bytes()).decode('utf-8')\n",
    "\n",
    "    sent_message = service.users().messages().send(\n",
    "        userId = 'me', \n",
    "        body   = {'raw': raw_message}\n",
    "    ).execute()\n",
    "\n",
    "    return sent_message"
   ]
  },
  {
   "cell_type": "code",
   "execution_count": 11,
   "metadata": {},
   "outputs": [],
   "source": [
    "recipient = 'dgranada@equilibriumbdc.com'\n",
    "email_subject = 'TESTING GMAIL API'\n",
    "email_body = 'TESTING MAIL API'"
   ]
  },
  {
   "cell_type": "code",
   "execution_count": 12,
   "metadata": {},
   "outputs": [
    {
     "name": "stdout",
     "output_type": "stream",
     "text": [
      "{'id': '1953870c7155f7cc', 'threadId': '1953870c7155f7cc', 'labelIds': ['SENT']}\n"
     ]
    }
   ],
   "source": [
    "response_email = send_email(service, recipient, email_subject, email_body)\n",
    "print(response_email)"
   ]
  }
 ],
 "metadata": {
  "kernelspec": {
   "display_name": "general",
   "language": "python",
   "name": "python3"
  },
  "language_info": {
   "codemirror_mode": {
    "name": "ipython",
    "version": 3
   },
   "file_extension": ".py",
   "mimetype": "text/x-python",
   "name": "python",
   "nbconvert_exporter": "python",
   "pygments_lexer": "ipython3",
   "version": "3.13.2"
  }
 },
 "nbformat": 4,
 "nbformat_minor": 2
}
